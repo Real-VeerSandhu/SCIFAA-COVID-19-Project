{
 "metadata": {
  "language_info": {
   "codemirror_mode": {
    "name": "ipython",
    "version": 3
   },
   "file_extension": ".py",
   "mimetype": "text/x-python",
   "name": "python",
   "nbconvert_exporter": "python",
   "pygments_lexer": "ipython3",
   "version": "3.6.12"
  },
  "orig_nbformat": 4,
  "kernelspec": {
   "name": "python3",
   "display_name": "Python 3.6.12 64-bit ('env0': conda)"
  },
  "interpreter": {
   "hash": "fefd83eafc0c2f3c8796de3f6632c2698dc12eafcdd46e5a8c965eb3d21b0b49"
  }
 },
 "nbformat": 4,
 "nbformat_minor": 2,
 "cells": [
  {
   "cell_type": "code",
   "execution_count": 78,
   "metadata": {},
   "outputs": [],
   "source": [
    "import pandas as pd \n",
    "import matplotlib.pyplot as plt \n",
    "import seaborn as sns\n",
    "import plotly.express as px"
   ]
  },
  {
   "cell_type": "code",
   "execution_count": 79,
   "metadata": {},
   "outputs": [],
   "source": [
    "world_data = pd.read_csv('Data/our-world-can.csv')"
   ]
  },
  {
   "cell_type": "code",
   "execution_count": 80,
   "metadata": {},
   "outputs": [
    {
     "output_type": "execute_result",
     "data": {
      "text/plain": [
       "                                       Entity Code         Day  total_tests  \\\n",
       "0       2020 Summer Olympics athletes & staff  NaN  2021-06-19          NaN   \n",
       "1       2020 Summer Olympics athletes & staff  NaN  2021-06-20          NaN   \n",
       "2       2020 Summer Olympics athletes & staff  NaN  2021-06-21          NaN   \n",
       "3       2020 Summer Olympics athletes & staff  NaN  2021-06-22          NaN   \n",
       "4       2020 Summer Olympics athletes & staff  NaN  2021-06-23          NaN   \n",
       "...                                       ...  ...         ...          ...   \n",
       "105718                               Zimbabwe  ZWE  2021-07-19          NaN   \n",
       "105719                               Zimbabwe  ZWE  2021-07-20          NaN   \n",
       "105720                               Zimbabwe  ZWE  2020-03-20          NaN   \n",
       "105721                               Zimbabwe  ZWE  2020-03-21          NaN   \n",
       "105722                               Zimbabwe  ZWE  2020-03-22          NaN   \n",
       "\n",
       "       142601-annotations  Total confirmed deaths due to COVID-19  \\\n",
       "0                     NaN                                     NaN   \n",
       "1                     NaN                                     NaN   \n",
       "2                     NaN                                     NaN   \n",
       "3                     NaN                                     NaN   \n",
       "4                     NaN                                     NaN   \n",
       "...                   ...                                     ...   \n",
       "105718                NaN                                  2697.0   \n",
       "105719                NaN                                  2747.0   \n",
       "105720                NaN                                     NaN   \n",
       "105721                NaN                                     NaN   \n",
       "105722                NaN                                     NaN   \n",
       "\n",
       "        Total confirmed cases of COVID-19  \n",
       "0                                     1.0  \n",
       "1                                     1.0  \n",
       "2                                     1.0  \n",
       "3                                     1.0  \n",
       "4                                     1.0  \n",
       "...                                   ...  \n",
       "105718                            85732.0  \n",
       "105719                            88415.0  \n",
       "105720                                1.0  \n",
       "105721                                3.0  \n",
       "105722                                3.0  \n",
       "\n",
       "[105723 rows x 7 columns]"
      ],
      "text/html": "<div>\n<style scoped>\n    .dataframe tbody tr th:only-of-type {\n        vertical-align: middle;\n    }\n\n    .dataframe tbody tr th {\n        vertical-align: top;\n    }\n\n    .dataframe thead th {\n        text-align: right;\n    }\n</style>\n<table border=\"1\" class=\"dataframe\">\n  <thead>\n    <tr style=\"text-align: right;\">\n      <th></th>\n      <th>Entity</th>\n      <th>Code</th>\n      <th>Day</th>\n      <th>total_tests</th>\n      <th>142601-annotations</th>\n      <th>Total confirmed deaths due to COVID-19</th>\n      <th>Total confirmed cases of COVID-19</th>\n    </tr>\n  </thead>\n  <tbody>\n    <tr>\n      <th>0</th>\n      <td>2020 Summer Olympics athletes &amp; staff</td>\n      <td>NaN</td>\n      <td>2021-06-19</td>\n      <td>NaN</td>\n      <td>NaN</td>\n      <td>NaN</td>\n      <td>1.0</td>\n    </tr>\n    <tr>\n      <th>1</th>\n      <td>2020 Summer Olympics athletes &amp; staff</td>\n      <td>NaN</td>\n      <td>2021-06-20</td>\n      <td>NaN</td>\n      <td>NaN</td>\n      <td>NaN</td>\n      <td>1.0</td>\n    </tr>\n    <tr>\n      <th>2</th>\n      <td>2020 Summer Olympics athletes &amp; staff</td>\n      <td>NaN</td>\n      <td>2021-06-21</td>\n      <td>NaN</td>\n      <td>NaN</td>\n      <td>NaN</td>\n      <td>1.0</td>\n    </tr>\n    <tr>\n      <th>3</th>\n      <td>2020 Summer Olympics athletes &amp; staff</td>\n      <td>NaN</td>\n      <td>2021-06-22</td>\n      <td>NaN</td>\n      <td>NaN</td>\n      <td>NaN</td>\n      <td>1.0</td>\n    </tr>\n    <tr>\n      <th>4</th>\n      <td>2020 Summer Olympics athletes &amp; staff</td>\n      <td>NaN</td>\n      <td>2021-06-23</td>\n      <td>NaN</td>\n      <td>NaN</td>\n      <td>NaN</td>\n      <td>1.0</td>\n    </tr>\n    <tr>\n      <th>...</th>\n      <td>...</td>\n      <td>...</td>\n      <td>...</td>\n      <td>...</td>\n      <td>...</td>\n      <td>...</td>\n      <td>...</td>\n    </tr>\n    <tr>\n      <th>105718</th>\n      <td>Zimbabwe</td>\n      <td>ZWE</td>\n      <td>2021-07-19</td>\n      <td>NaN</td>\n      <td>NaN</td>\n      <td>2697.0</td>\n      <td>85732.0</td>\n    </tr>\n    <tr>\n      <th>105719</th>\n      <td>Zimbabwe</td>\n      <td>ZWE</td>\n      <td>2021-07-20</td>\n      <td>NaN</td>\n      <td>NaN</td>\n      <td>2747.0</td>\n      <td>88415.0</td>\n    </tr>\n    <tr>\n      <th>105720</th>\n      <td>Zimbabwe</td>\n      <td>ZWE</td>\n      <td>2020-03-20</td>\n      <td>NaN</td>\n      <td>NaN</td>\n      <td>NaN</td>\n      <td>1.0</td>\n    </tr>\n    <tr>\n      <th>105721</th>\n      <td>Zimbabwe</td>\n      <td>ZWE</td>\n      <td>2020-03-21</td>\n      <td>NaN</td>\n      <td>NaN</td>\n      <td>NaN</td>\n      <td>3.0</td>\n    </tr>\n    <tr>\n      <th>105722</th>\n      <td>Zimbabwe</td>\n      <td>ZWE</td>\n      <td>2020-03-22</td>\n      <td>NaN</td>\n      <td>NaN</td>\n      <td>NaN</td>\n      <td>3.0</td>\n    </tr>\n  </tbody>\n</table>\n<p>105723 rows × 7 columns</p>\n</div>"
     },
     "metadata": {},
     "execution_count": 80
    }
   ],
   "source": [
    "world_data"
   ]
  },
  {
   "cell_type": "code",
   "execution_count": 81,
   "metadata": {},
   "outputs": [],
   "source": [
    "world_data = world_data.rename(columns={'Entity': 'Country', 'total_tests': 'Number of Tests Performed', '142601-annotations': 'Tested T/F', 'Total confirmed deaths due to COVID-19': 'Deaths', 'Total confirmed cases of COVID-19': 'Cases'})"
   ]
  },
  {
   "cell_type": "code",
   "execution_count": 82,
   "metadata": {},
   "outputs": [
    {
     "output_type": "execute_result",
     "data": {
      "text/plain": [
       "                                      Country Code         Day  \\\n",
       "0       2020 Summer Olympics athletes & staff  NaN  2021-06-19   \n",
       "1       2020 Summer Olympics athletes & staff  NaN  2021-06-20   \n",
       "2       2020 Summer Olympics athletes & staff  NaN  2021-06-21   \n",
       "3       2020 Summer Olympics athletes & staff  NaN  2021-06-22   \n",
       "4       2020 Summer Olympics athletes & staff  NaN  2021-06-23   \n",
       "...                                       ...  ...         ...   \n",
       "105718                               Zimbabwe  ZWE  2021-07-19   \n",
       "105719                               Zimbabwe  ZWE  2021-07-20   \n",
       "105720                               Zimbabwe  ZWE  2020-03-20   \n",
       "105721                               Zimbabwe  ZWE  2020-03-21   \n",
       "105722                               Zimbabwe  ZWE  2020-03-22   \n",
       "\n",
       "        Number of Tests Performed Tested T/F  Deaths    Cases  \n",
       "0                             NaN        NaN     NaN      1.0  \n",
       "1                             NaN        NaN     NaN      1.0  \n",
       "2                             NaN        NaN     NaN      1.0  \n",
       "3                             NaN        NaN     NaN      1.0  \n",
       "4                             NaN        NaN     NaN      1.0  \n",
       "...                           ...        ...     ...      ...  \n",
       "105718                        NaN        NaN  2697.0  85732.0  \n",
       "105719                        NaN        NaN  2747.0  88415.0  \n",
       "105720                        NaN        NaN     NaN      1.0  \n",
       "105721                        NaN        NaN     NaN      3.0  \n",
       "105722                        NaN        NaN     NaN      3.0  \n",
       "\n",
       "[105723 rows x 7 columns]"
      ],
      "text/html": "<div>\n<style scoped>\n    .dataframe tbody tr th:only-of-type {\n        vertical-align: middle;\n    }\n\n    .dataframe tbody tr th {\n        vertical-align: top;\n    }\n\n    .dataframe thead th {\n        text-align: right;\n    }\n</style>\n<table border=\"1\" class=\"dataframe\">\n  <thead>\n    <tr style=\"text-align: right;\">\n      <th></th>\n      <th>Country</th>\n      <th>Code</th>\n      <th>Day</th>\n      <th>Number of Tests Performed</th>\n      <th>Tested T/F</th>\n      <th>Deaths</th>\n      <th>Cases</th>\n    </tr>\n  </thead>\n  <tbody>\n    <tr>\n      <th>0</th>\n      <td>2020 Summer Olympics athletes &amp; staff</td>\n      <td>NaN</td>\n      <td>2021-06-19</td>\n      <td>NaN</td>\n      <td>NaN</td>\n      <td>NaN</td>\n      <td>1.0</td>\n    </tr>\n    <tr>\n      <th>1</th>\n      <td>2020 Summer Olympics athletes &amp; staff</td>\n      <td>NaN</td>\n      <td>2021-06-20</td>\n      <td>NaN</td>\n      <td>NaN</td>\n      <td>NaN</td>\n      <td>1.0</td>\n    </tr>\n    <tr>\n      <th>2</th>\n      <td>2020 Summer Olympics athletes &amp; staff</td>\n      <td>NaN</td>\n      <td>2021-06-21</td>\n      <td>NaN</td>\n      <td>NaN</td>\n      <td>NaN</td>\n      <td>1.0</td>\n    </tr>\n    <tr>\n      <th>3</th>\n      <td>2020 Summer Olympics athletes &amp; staff</td>\n      <td>NaN</td>\n      <td>2021-06-22</td>\n      <td>NaN</td>\n      <td>NaN</td>\n      <td>NaN</td>\n      <td>1.0</td>\n    </tr>\n    <tr>\n      <th>4</th>\n      <td>2020 Summer Olympics athletes &amp; staff</td>\n      <td>NaN</td>\n      <td>2021-06-23</td>\n      <td>NaN</td>\n      <td>NaN</td>\n      <td>NaN</td>\n      <td>1.0</td>\n    </tr>\n    <tr>\n      <th>...</th>\n      <td>...</td>\n      <td>...</td>\n      <td>...</td>\n      <td>...</td>\n      <td>...</td>\n      <td>...</td>\n      <td>...</td>\n    </tr>\n    <tr>\n      <th>105718</th>\n      <td>Zimbabwe</td>\n      <td>ZWE</td>\n      <td>2021-07-19</td>\n      <td>NaN</td>\n      <td>NaN</td>\n      <td>2697.0</td>\n      <td>85732.0</td>\n    </tr>\n    <tr>\n      <th>105719</th>\n      <td>Zimbabwe</td>\n      <td>ZWE</td>\n      <td>2021-07-20</td>\n      <td>NaN</td>\n      <td>NaN</td>\n      <td>2747.0</td>\n      <td>88415.0</td>\n    </tr>\n    <tr>\n      <th>105720</th>\n      <td>Zimbabwe</td>\n      <td>ZWE</td>\n      <td>2020-03-20</td>\n      <td>NaN</td>\n      <td>NaN</td>\n      <td>NaN</td>\n      <td>1.0</td>\n    </tr>\n    <tr>\n      <th>105721</th>\n      <td>Zimbabwe</td>\n      <td>ZWE</td>\n      <td>2020-03-21</td>\n      <td>NaN</td>\n      <td>NaN</td>\n      <td>NaN</td>\n      <td>3.0</td>\n    </tr>\n    <tr>\n      <th>105722</th>\n      <td>Zimbabwe</td>\n      <td>ZWE</td>\n      <td>2020-03-22</td>\n      <td>NaN</td>\n      <td>NaN</td>\n      <td>NaN</td>\n      <td>3.0</td>\n    </tr>\n  </tbody>\n</table>\n<p>105723 rows × 7 columns</p>\n</div>"
     },
     "metadata": {},
     "execution_count": 82
    }
   ],
   "source": [
    "world_data"
   ]
  },
  {
   "cell_type": "code",
   "execution_count": 83,
   "metadata": {},
   "outputs": [],
   "source": [
    "can = world_data[world_data['Country'] == 'Canada']\n",
    "usa = world_data[world_data['Country'] == 'United States']\n",
    "\n",
    "usa = usa.drop([98765,98764,98763,98762])"
   ]
  },
  {
   "cell_type": "code",
   "execution_count": 84,
   "metadata": {},
   "outputs": [
    {
     "output_type": "execute_result",
     "data": {
      "text/plain": [
       "      Country Code         Day  Number of Tests Performed       Tested T/F  \\\n",
       "16800  Canada  CAN  2020-01-31                        0.0  tests performed   \n",
       "16801  Canada  CAN  2020-02-08                       63.0  tests performed   \n",
       "16802  Canada  CAN  2020-02-16                      109.0  tests performed   \n",
       "16803  Canada  CAN  2020-02-21                      166.0  tests performed   \n",
       "16804  Canada  CAN  2020-02-24                      212.0  tests performed   \n",
       "...       ...  ...         ...                        ...              ...   \n",
       "17337  Canada  CAN  2020-02-22                        NaN              NaN   \n",
       "17338  Canada  CAN  2020-02-23                        NaN              NaN   \n",
       "17339  Canada  CAN  2020-02-28                        NaN              NaN   \n",
       "17340  Canada  CAN  2020-03-02                        NaN              NaN   \n",
       "17341  Canada  CAN  2020-03-04                        NaN              NaN   \n",
       "\n",
       "       Deaths  Cases  \n",
       "16800     NaN    4.0  \n",
       "16801     NaN    7.0  \n",
       "16802     NaN    7.0  \n",
       "16803     NaN    9.0  \n",
       "16804     NaN   10.0  \n",
       "...       ...    ...  \n",
       "17337     NaN    9.0  \n",
       "17338     NaN    9.0  \n",
       "17339     NaN   15.0  \n",
       "17340     NaN   32.0  \n",
       "17341     NaN   42.0  \n",
       "\n",
       "[542 rows x 7 columns]"
      ],
      "text/html": "<div>\n<style scoped>\n    .dataframe tbody tr th:only-of-type {\n        vertical-align: middle;\n    }\n\n    .dataframe tbody tr th {\n        vertical-align: top;\n    }\n\n    .dataframe thead th {\n        text-align: right;\n    }\n</style>\n<table border=\"1\" class=\"dataframe\">\n  <thead>\n    <tr style=\"text-align: right;\">\n      <th></th>\n      <th>Country</th>\n      <th>Code</th>\n      <th>Day</th>\n      <th>Number of Tests Performed</th>\n      <th>Tested T/F</th>\n      <th>Deaths</th>\n      <th>Cases</th>\n    </tr>\n  </thead>\n  <tbody>\n    <tr>\n      <th>16800</th>\n      <td>Canada</td>\n      <td>CAN</td>\n      <td>2020-01-31</td>\n      <td>0.0</td>\n      <td>tests performed</td>\n      <td>NaN</td>\n      <td>4.0</td>\n    </tr>\n    <tr>\n      <th>16801</th>\n      <td>Canada</td>\n      <td>CAN</td>\n      <td>2020-02-08</td>\n      <td>63.0</td>\n      <td>tests performed</td>\n      <td>NaN</td>\n      <td>7.0</td>\n    </tr>\n    <tr>\n      <th>16802</th>\n      <td>Canada</td>\n      <td>CAN</td>\n      <td>2020-02-16</td>\n      <td>109.0</td>\n      <td>tests performed</td>\n      <td>NaN</td>\n      <td>7.0</td>\n    </tr>\n    <tr>\n      <th>16803</th>\n      <td>Canada</td>\n      <td>CAN</td>\n      <td>2020-02-21</td>\n      <td>166.0</td>\n      <td>tests performed</td>\n      <td>NaN</td>\n      <td>9.0</td>\n    </tr>\n    <tr>\n      <th>16804</th>\n      <td>Canada</td>\n      <td>CAN</td>\n      <td>2020-02-24</td>\n      <td>212.0</td>\n      <td>tests performed</td>\n      <td>NaN</td>\n      <td>10.0</td>\n    </tr>\n    <tr>\n      <th>...</th>\n      <td>...</td>\n      <td>...</td>\n      <td>...</td>\n      <td>...</td>\n      <td>...</td>\n      <td>...</td>\n      <td>...</td>\n    </tr>\n    <tr>\n      <th>17337</th>\n      <td>Canada</td>\n      <td>CAN</td>\n      <td>2020-02-22</td>\n      <td>NaN</td>\n      <td>NaN</td>\n      <td>NaN</td>\n      <td>9.0</td>\n    </tr>\n    <tr>\n      <th>17338</th>\n      <td>Canada</td>\n      <td>CAN</td>\n      <td>2020-02-23</td>\n      <td>NaN</td>\n      <td>NaN</td>\n      <td>NaN</td>\n      <td>9.0</td>\n    </tr>\n    <tr>\n      <th>17339</th>\n      <td>Canada</td>\n      <td>CAN</td>\n      <td>2020-02-28</td>\n      <td>NaN</td>\n      <td>NaN</td>\n      <td>NaN</td>\n      <td>15.0</td>\n    </tr>\n    <tr>\n      <th>17340</th>\n      <td>Canada</td>\n      <td>CAN</td>\n      <td>2020-03-02</td>\n      <td>NaN</td>\n      <td>NaN</td>\n      <td>NaN</td>\n      <td>32.0</td>\n    </tr>\n    <tr>\n      <th>17341</th>\n      <td>Canada</td>\n      <td>CAN</td>\n      <td>2020-03-04</td>\n      <td>NaN</td>\n      <td>NaN</td>\n      <td>NaN</td>\n      <td>42.0</td>\n    </tr>\n  </tbody>\n</table>\n<p>542 rows × 7 columns</p>\n</div>"
     },
     "metadata": {},
     "execution_count": 84
    }
   ],
   "source": [
    "can"
   ]
  },
  {
   "cell_type": "code",
   "execution_count": 85,
   "metadata": {},
   "outputs": [
    {
     "output_type": "execute_result",
     "data": {
      "text/plain": [
       "             Country Code         Day  Number of Tests Performed  \\\n",
       "98220  United States  USA  2020-03-01                      348.0   \n",
       "98221  United States  USA  2020-03-02                      861.0   \n",
       "98222  United States  USA  2020-03-03                     1480.0   \n",
       "98223  United States  USA  2020-03-04                     2370.0   \n",
       "98224  United States  USA  2020-03-05                     3587.0   \n",
       "...              ...  ...         ...                        ...   \n",
       "98757  United States  USA  2020-02-20                        NaN   \n",
       "98758  United States  USA  2020-02-21                        NaN   \n",
       "98759  United States  USA  2020-02-22                        NaN   \n",
       "98760  United States  USA  2020-02-23                        NaN   \n",
       "98761  United States  USA  2020-02-24                        NaN   \n",
       "\n",
       "            Tested T/F  Deaths  Cases  \n",
       "98220  tests performed     1.0   32.0  \n",
       "98221  tests performed     6.0   55.0  \n",
       "98222  tests performed     7.0   74.0  \n",
       "98223  tests performed    11.0  107.0  \n",
       "98224  tests performed    12.0  184.0  \n",
       "...                ...     ...    ...  \n",
       "98757              NaN     NaN   14.0  \n",
       "98758              NaN     NaN   16.0  \n",
       "98759              NaN     NaN   16.0  \n",
       "98760              NaN     NaN   16.0  \n",
       "98761              NaN     NaN   16.0  \n",
       "\n",
       "[542 rows x 7 columns]"
      ],
      "text/html": "<div>\n<style scoped>\n    .dataframe tbody tr th:only-of-type {\n        vertical-align: middle;\n    }\n\n    .dataframe tbody tr th {\n        vertical-align: top;\n    }\n\n    .dataframe thead th {\n        text-align: right;\n    }\n</style>\n<table border=\"1\" class=\"dataframe\">\n  <thead>\n    <tr style=\"text-align: right;\">\n      <th></th>\n      <th>Country</th>\n      <th>Code</th>\n      <th>Day</th>\n      <th>Number of Tests Performed</th>\n      <th>Tested T/F</th>\n      <th>Deaths</th>\n      <th>Cases</th>\n    </tr>\n  </thead>\n  <tbody>\n    <tr>\n      <th>98220</th>\n      <td>United States</td>\n      <td>USA</td>\n      <td>2020-03-01</td>\n      <td>348.0</td>\n      <td>tests performed</td>\n      <td>1.0</td>\n      <td>32.0</td>\n    </tr>\n    <tr>\n      <th>98221</th>\n      <td>United States</td>\n      <td>USA</td>\n      <td>2020-03-02</td>\n      <td>861.0</td>\n      <td>tests performed</td>\n      <td>6.0</td>\n      <td>55.0</td>\n    </tr>\n    <tr>\n      <th>98222</th>\n      <td>United States</td>\n      <td>USA</td>\n      <td>2020-03-03</td>\n      <td>1480.0</td>\n      <td>tests performed</td>\n      <td>7.0</td>\n      <td>74.0</td>\n    </tr>\n    <tr>\n      <th>98223</th>\n      <td>United States</td>\n      <td>USA</td>\n      <td>2020-03-04</td>\n      <td>2370.0</td>\n      <td>tests performed</td>\n      <td>11.0</td>\n      <td>107.0</td>\n    </tr>\n    <tr>\n      <th>98224</th>\n      <td>United States</td>\n      <td>USA</td>\n      <td>2020-03-05</td>\n      <td>3587.0</td>\n      <td>tests performed</td>\n      <td>12.0</td>\n      <td>184.0</td>\n    </tr>\n    <tr>\n      <th>...</th>\n      <td>...</td>\n      <td>...</td>\n      <td>...</td>\n      <td>...</td>\n      <td>...</td>\n      <td>...</td>\n      <td>...</td>\n    </tr>\n    <tr>\n      <th>98757</th>\n      <td>United States</td>\n      <td>USA</td>\n      <td>2020-02-20</td>\n      <td>NaN</td>\n      <td>NaN</td>\n      <td>NaN</td>\n      <td>14.0</td>\n    </tr>\n    <tr>\n      <th>98758</th>\n      <td>United States</td>\n      <td>USA</td>\n      <td>2020-02-21</td>\n      <td>NaN</td>\n      <td>NaN</td>\n      <td>NaN</td>\n      <td>16.0</td>\n    </tr>\n    <tr>\n      <th>98759</th>\n      <td>United States</td>\n      <td>USA</td>\n      <td>2020-02-22</td>\n      <td>NaN</td>\n      <td>NaN</td>\n      <td>NaN</td>\n      <td>16.0</td>\n    </tr>\n    <tr>\n      <th>98760</th>\n      <td>United States</td>\n      <td>USA</td>\n      <td>2020-02-23</td>\n      <td>NaN</td>\n      <td>NaN</td>\n      <td>NaN</td>\n      <td>16.0</td>\n    </tr>\n    <tr>\n      <th>98761</th>\n      <td>United States</td>\n      <td>USA</td>\n      <td>2020-02-24</td>\n      <td>NaN</td>\n      <td>NaN</td>\n      <td>NaN</td>\n      <td>16.0</td>\n    </tr>\n  </tbody>\n</table>\n<p>542 rows × 7 columns</p>\n</div>"
     },
     "metadata": {},
     "execution_count": 85
    }
   ],
   "source": [
    "usa"
   ]
  },
  {
   "cell_type": "code",
   "execution_count": 86,
   "metadata": {},
   "outputs": [],
   "source": [
    "can_pivot = can.pivot_table(index = 'Day', values = ['Cases'], aggfunc='sum').reset_index()\n",
    "usa_pivot = usa.pivot_table(index = 'Day', values = ['Cases'], aggfunc='sum').reset_index()"
   ]
  },
  {
   "cell_type": "code",
   "execution_count": 110,
   "metadata": {},
   "outputs": [
    {
     "output_type": "execute_result",
     "data": {
      "text/plain": [
       "    Country         Day      Cases\n",
       "0    Canada  2020-01-26        1.0\n",
       "1    Canada  2020-01-27        1.0\n",
       "2    Canada  2020-01-28        2.0\n",
       "3    Canada  2020-01-29        2.0\n",
       "4    Canada  2020-01-30        2.0\n",
       "..      ...         ...        ...\n",
       "537  Canada  2021-07-16  1430127.0\n",
       "538  Canada  2021-07-17  1430437.0\n",
       "539  Canada  2021-07-18  1430740.0\n",
       "540  Canada  2021-07-19  1431378.0\n",
       "541  Canada  2021-07-20  1431691.0\n",
       "\n",
       "[542 rows x 3 columns]"
      ],
      "text/html": "<div>\n<style scoped>\n    .dataframe tbody tr th:only-of-type {\n        vertical-align: middle;\n    }\n\n    .dataframe tbody tr th {\n        vertical-align: top;\n    }\n\n    .dataframe thead th {\n        text-align: right;\n    }\n</style>\n<table border=\"1\" class=\"dataframe\">\n  <thead>\n    <tr style=\"text-align: right;\">\n      <th></th>\n      <th>Country</th>\n      <th>Day</th>\n      <th>Cases</th>\n    </tr>\n  </thead>\n  <tbody>\n    <tr>\n      <th>0</th>\n      <td>Canada</td>\n      <td>2020-01-26</td>\n      <td>1.0</td>\n    </tr>\n    <tr>\n      <th>1</th>\n      <td>Canada</td>\n      <td>2020-01-27</td>\n      <td>1.0</td>\n    </tr>\n    <tr>\n      <th>2</th>\n      <td>Canada</td>\n      <td>2020-01-28</td>\n      <td>2.0</td>\n    </tr>\n    <tr>\n      <th>3</th>\n      <td>Canada</td>\n      <td>2020-01-29</td>\n      <td>2.0</td>\n    </tr>\n    <tr>\n      <th>4</th>\n      <td>Canada</td>\n      <td>2020-01-30</td>\n      <td>2.0</td>\n    </tr>\n    <tr>\n      <th>...</th>\n      <td>...</td>\n      <td>...</td>\n      <td>...</td>\n    </tr>\n    <tr>\n      <th>537</th>\n      <td>Canada</td>\n      <td>2021-07-16</td>\n      <td>1430127.0</td>\n    </tr>\n    <tr>\n      <th>538</th>\n      <td>Canada</td>\n      <td>2021-07-17</td>\n      <td>1430437.0</td>\n    </tr>\n    <tr>\n      <th>539</th>\n      <td>Canada</td>\n      <td>2021-07-18</td>\n      <td>1430740.0</td>\n    </tr>\n    <tr>\n      <th>540</th>\n      <td>Canada</td>\n      <td>2021-07-19</td>\n      <td>1431378.0</td>\n    </tr>\n    <tr>\n      <th>541</th>\n      <td>Canada</td>\n      <td>2021-07-20</td>\n      <td>1431691.0</td>\n    </tr>\n  </tbody>\n</table>\n<p>542 rows × 3 columns</p>\n</div>"
     },
     "metadata": {},
     "execution_count": 110
    }
   ],
   "source": [
    "can_pivot.insert(0, 'Country', ['Canada']*542, True)\n",
    "can_pivot"
   ]
  },
  {
   "cell_type": "code",
   "execution_count": 111,
   "metadata": {},
   "outputs": [
    {
     "output_type": "execute_result",
     "data": {
      "text/plain": [
       "           Country         Day       Cases\n",
       "0    United States  2020-01-22         1.0\n",
       "1    United States  2020-01-23         1.0\n",
       "2    United States  2020-01-24         2.0\n",
       "3    United States  2020-01-25         2.0\n",
       "4    United States  2020-01-26         5.0\n",
       "..             ...         ...         ...\n",
       "537  United States  2021-07-16  34054952.0\n",
       "538  United States  2021-07-17  34067912.0\n",
       "539  United States  2021-07-18  34079960.0\n",
       "540  United States  2021-07-19  34132071.0\n",
       "541  United States  2021-07-20  34174774.0\n",
       "\n",
       "[542 rows x 3 columns]"
      ],
      "text/html": "<div>\n<style scoped>\n    .dataframe tbody tr th:only-of-type {\n        vertical-align: middle;\n    }\n\n    .dataframe tbody tr th {\n        vertical-align: top;\n    }\n\n    .dataframe thead th {\n        text-align: right;\n    }\n</style>\n<table border=\"1\" class=\"dataframe\">\n  <thead>\n    <tr style=\"text-align: right;\">\n      <th></th>\n      <th>Country</th>\n      <th>Day</th>\n      <th>Cases</th>\n    </tr>\n  </thead>\n  <tbody>\n    <tr>\n      <th>0</th>\n      <td>United States</td>\n      <td>2020-01-22</td>\n      <td>1.0</td>\n    </tr>\n    <tr>\n      <th>1</th>\n      <td>United States</td>\n      <td>2020-01-23</td>\n      <td>1.0</td>\n    </tr>\n    <tr>\n      <th>2</th>\n      <td>United States</td>\n      <td>2020-01-24</td>\n      <td>2.0</td>\n    </tr>\n    <tr>\n      <th>3</th>\n      <td>United States</td>\n      <td>2020-01-25</td>\n      <td>2.0</td>\n    </tr>\n    <tr>\n      <th>4</th>\n      <td>United States</td>\n      <td>2020-01-26</td>\n      <td>5.0</td>\n    </tr>\n    <tr>\n      <th>...</th>\n      <td>...</td>\n      <td>...</td>\n      <td>...</td>\n    </tr>\n    <tr>\n      <th>537</th>\n      <td>United States</td>\n      <td>2021-07-16</td>\n      <td>34054952.0</td>\n    </tr>\n    <tr>\n      <th>538</th>\n      <td>United States</td>\n      <td>2021-07-17</td>\n      <td>34067912.0</td>\n    </tr>\n    <tr>\n      <th>539</th>\n      <td>United States</td>\n      <td>2021-07-18</td>\n      <td>34079960.0</td>\n    </tr>\n    <tr>\n      <th>540</th>\n      <td>United States</td>\n      <td>2021-07-19</td>\n      <td>34132071.0</td>\n    </tr>\n    <tr>\n      <th>541</th>\n      <td>United States</td>\n      <td>2021-07-20</td>\n      <td>34174774.0</td>\n    </tr>\n  </tbody>\n</table>\n<p>542 rows × 3 columns</p>\n</div>"
     },
     "metadata": {},
     "execution_count": 111
    }
   ],
   "source": [
    "usa_pivot.insert(0, 'Country', ['United States']*542, True)\n",
    "usa_pivot"
   ]
  },
  {
   "cell_type": "code",
   "execution_count": 114,
   "metadata": {},
   "outputs": [
    {
     "output_type": "execute_result",
     "data": {
      "text/plain": [
       "           Country         Day      Cases\n",
       "0    United States  2020-01-22        1.0\n",
       "1    United States  2020-01-23        1.0\n",
       "2    United States  2020-01-24        2.0\n",
       "3    United States  2020-01-25        2.0\n",
       "4    United States  2020-01-26        5.0\n",
       "..             ...         ...        ...\n",
       "537         Canada  2021-07-16  1430127.0\n",
       "538         Canada  2021-07-17  1430437.0\n",
       "539         Canada  2021-07-18  1430740.0\n",
       "540         Canada  2021-07-19  1431378.0\n",
       "541         Canada  2021-07-20  1431691.0\n",
       "\n",
       "[1084 rows x 3 columns]"
      ],
      "text/html": "<div>\n<style scoped>\n    .dataframe tbody tr th:only-of-type {\n        vertical-align: middle;\n    }\n\n    .dataframe tbody tr th {\n        vertical-align: top;\n    }\n\n    .dataframe thead th {\n        text-align: right;\n    }\n</style>\n<table border=\"1\" class=\"dataframe\">\n  <thead>\n    <tr style=\"text-align: right;\">\n      <th></th>\n      <th>Country</th>\n      <th>Day</th>\n      <th>Cases</th>\n    </tr>\n  </thead>\n  <tbody>\n    <tr>\n      <th>0</th>\n      <td>United States</td>\n      <td>2020-01-22</td>\n      <td>1.0</td>\n    </tr>\n    <tr>\n      <th>1</th>\n      <td>United States</td>\n      <td>2020-01-23</td>\n      <td>1.0</td>\n    </tr>\n    <tr>\n      <th>2</th>\n      <td>United States</td>\n      <td>2020-01-24</td>\n      <td>2.0</td>\n    </tr>\n    <tr>\n      <th>3</th>\n      <td>United States</td>\n      <td>2020-01-25</td>\n      <td>2.0</td>\n    </tr>\n    <tr>\n      <th>4</th>\n      <td>United States</td>\n      <td>2020-01-26</td>\n      <td>5.0</td>\n    </tr>\n    <tr>\n      <th>...</th>\n      <td>...</td>\n      <td>...</td>\n      <td>...</td>\n    </tr>\n    <tr>\n      <th>537</th>\n      <td>Canada</td>\n      <td>2021-07-16</td>\n      <td>1430127.0</td>\n    </tr>\n    <tr>\n      <th>538</th>\n      <td>Canada</td>\n      <td>2021-07-17</td>\n      <td>1430437.0</td>\n    </tr>\n    <tr>\n      <th>539</th>\n      <td>Canada</td>\n      <td>2021-07-18</td>\n      <td>1430740.0</td>\n    </tr>\n    <tr>\n      <th>540</th>\n      <td>Canada</td>\n      <td>2021-07-19</td>\n      <td>1431378.0</td>\n    </tr>\n    <tr>\n      <th>541</th>\n      <td>Canada</td>\n      <td>2021-07-20</td>\n      <td>1431691.0</td>\n    </tr>\n  </tbody>\n</table>\n<p>1084 rows × 3 columns</p>\n</div>"
     },
     "metadata": {},
     "execution_count": 114
    }
   ],
   "source": [
    "added_data = pd.concat([usa_pivot, can_pivot])\n",
    "added_data"
   ]
  },
  {
   "cell_type": "code",
   "execution_count": 113,
   "metadata": {},
   "outputs": [
    {
     "output_type": "display_data",
     "data": {
      "application/vnd.plotly.v1+json": {
       "config": {
        "plotlyServerURL": "https://plot.ly"
       },
       "data": [
        {
         "hovertemplate": "Day=%{x}<br>Cases=%{y}<extra></extra>",
         "legendgroup": "",
         "line": {
          "color": "Red",
          "dash": "solid"
         },
         "mode": "lines",
         "name": "",
         "orientation": "v",
         "showlegend": false,
         "type": "scatter",
         "x": [
          "2020-01-26",
          "2020-01-27",
          "2020-01-28",
          "2020-01-29",
          "2020-01-30",
          "2020-01-31",
          "2020-02-01",
          "2020-02-02",
          "2020-02-03",
          "2020-02-04",
          "2020-02-05",
          "2020-02-06",
          "2020-02-07",
          "2020-02-08",
          "2020-02-09",
          "2020-02-10",
          "2020-02-11",
          "2020-02-12",
          "2020-02-13",
          "2020-02-14",
          "2020-02-15",
          "2020-02-16",
          "2020-02-17",
          "2020-02-18",
          "2020-02-19",
          "2020-02-20",
          "2020-02-21",
          "2020-02-22",
          "2020-02-23",
          "2020-02-24",
          "2020-02-25",
          "2020-02-26",
          "2020-02-27",
          "2020-02-28",
          "2020-02-29",
          "2020-03-01",
          "2020-03-02",
          "2020-03-03",
          "2020-03-04",
          "2020-03-05",
          "2020-03-06",
          "2020-03-07",
          "2020-03-08",
          "2020-03-09",
          "2020-03-10",
          "2020-03-11",
          "2020-03-12",
          "2020-03-13",
          "2020-03-14",
          "2020-03-15",
          "2020-03-16",
          "2020-03-17",
          "2020-03-18",
          "2020-03-19",
          "2020-03-20",
          "2020-03-21",
          "2020-03-22",
          "2020-03-23",
          "2020-03-24",
          "2020-03-25",
          "2020-03-26",
          "2020-03-27",
          "2020-03-28",
          "2020-03-29",
          "2020-03-30",
          "2020-03-31",
          "2020-04-01",
          "2020-04-02",
          "2020-04-03",
          "2020-04-04",
          "2020-04-05",
          "2020-04-06",
          "2020-04-07",
          "2020-04-08",
          "2020-04-09",
          "2020-04-10",
          "2020-04-11",
          "2020-04-12",
          "2020-04-13",
          "2020-04-14",
          "2020-04-15",
          "2020-04-16",
          "2020-04-17",
          "2020-04-18",
          "2020-04-19",
          "2020-04-20",
          "2020-04-21",
          "2020-04-22",
          "2020-04-23",
          "2020-04-24",
          "2020-04-25",
          "2020-04-26",
          "2020-04-27",
          "2020-04-28",
          "2020-04-29",
          "2020-04-30",
          "2020-05-01",
          "2020-05-02",
          "2020-05-03",
          "2020-05-04",
          "2020-05-05",
          "2020-05-06",
          "2020-05-07",
          "2020-05-08",
          "2020-05-09",
          "2020-05-10",
          "2020-05-11",
          "2020-05-12",
          "2020-05-13",
          "2020-05-14",
          "2020-05-15",
          "2020-05-16",
          "2020-05-17",
          "2020-05-18",
          "2020-05-19",
          "2020-05-20",
          "2020-05-21",
          "2020-05-22",
          "2020-05-23",
          "2020-05-24",
          "2020-05-25",
          "2020-05-26",
          "2020-05-27",
          "2020-05-28",
          "2020-05-29",
          "2020-05-30",
          "2020-05-31",
          "2020-06-01",
          "2020-06-02",
          "2020-06-03",
          "2020-06-04",
          "2020-06-05",
          "2020-06-06",
          "2020-06-07",
          "2020-06-08",
          "2020-06-09",
          "2020-06-10",
          "2020-06-11",
          "2020-06-12",
          "2020-06-13",
          "2020-06-14",
          "2020-06-15",
          "2020-06-16",
          "2020-06-17",
          "2020-06-18",
          "2020-06-19",
          "2020-06-20",
          "2020-06-21",
          "2020-06-22",
          "2020-06-23",
          "2020-06-24",
          "2020-06-25",
          "2020-06-26",
          "2020-06-27",
          "2020-06-28",
          "2020-06-29",
          "2020-06-30",
          "2020-07-01",
          "2020-07-02",
          "2020-07-03",
          "2020-07-04",
          "2020-07-05",
          "2020-07-06",
          "2020-07-07",
          "2020-07-08",
          "2020-07-09",
          "2020-07-10",
          "2020-07-11",
          "2020-07-12",
          "2020-07-13",
          "2020-07-14",
          "2020-07-15",
          "2020-07-16",
          "2020-07-17",
          "2020-07-18",
          "2020-07-19",
          "2020-07-20",
          "2020-07-21",
          "2020-07-22",
          "2020-07-23",
          "2020-07-24",
          "2020-07-25",
          "2020-07-26",
          "2020-07-27",
          "2020-07-28",
          "2020-07-29",
          "2020-07-30",
          "2020-07-31",
          "2020-08-01",
          "2020-08-02",
          "2020-08-03",
          "2020-08-04",
          "2020-08-05",
          "2020-08-06",
          "2020-08-07",
          "2020-08-08",
          "2020-08-09",
          "2020-08-10",
          "2020-08-11",
          "2020-08-12",
          "2020-08-13",
          "2020-08-14",
          "2020-08-15",
          "2020-08-16",
          "2020-08-17",
          "2020-08-18",
          "2020-08-19",
          "2020-08-20",
          "2020-08-21",
          "2020-08-22",
          "2020-08-23",
          "2020-08-24",
          "2020-08-25",
          "2020-08-26",
          "2020-08-27",
          "2020-08-28",
          "2020-08-29",
          "2020-08-30",
          "2020-08-31",
          "2020-09-01",
          "2020-09-02",
          "2020-09-03",
          "2020-09-04",
          "2020-09-05",
          "2020-09-06",
          "2020-09-07",
          "2020-09-08",
          "2020-09-09",
          "2020-09-10",
          "2020-09-11",
          "2020-09-12",
          "2020-09-13",
          "2020-09-14",
          "2020-09-15",
          "2020-09-16",
          "2020-09-17",
          "2020-09-18",
          "2020-09-19",
          "2020-09-20",
          "2020-09-21",
          "2020-09-22",
          "2020-09-23",
          "2020-09-24",
          "2020-09-25",
          "2020-09-26",
          "2020-09-27",
          "2020-09-28",
          "2020-09-29",
          "2020-09-30",
          "2020-10-01",
          "2020-10-02",
          "2020-10-03",
          "2020-10-04",
          "2020-10-05",
          "2020-10-06",
          "2020-10-07",
          "2020-10-08",
          "2020-10-09",
          "2020-10-10",
          "2020-10-11",
          "2020-10-12",
          "2020-10-13",
          "2020-10-14",
          "2020-10-15",
          "2020-10-16",
          "2020-10-17",
          "2020-10-18",
          "2020-10-19",
          "2020-10-20",
          "2020-10-21",
          "2020-10-22",
          "2020-10-23",
          "2020-10-24",
          "2020-10-25",
          "2020-10-26",
          "2020-10-27",
          "2020-10-28",
          "2020-10-29",
          "2020-10-30",
          "2020-10-31",
          "2020-11-01",
          "2020-11-02",
          "2020-11-03",
          "2020-11-04",
          "2020-11-05",
          "2020-11-06",
          "2020-11-07",
          "2020-11-08",
          "2020-11-09",
          "2020-11-10",
          "2020-11-11",
          "2020-11-12",
          "2020-11-13",
          "2020-11-14",
          "2020-11-15",
          "2020-11-16",
          "2020-11-17",
          "2020-11-18",
          "2020-11-19",
          "2020-11-20",
          "2020-11-21",
          "2020-11-22",
          "2020-11-23",
          "2020-11-24",
          "2020-11-25",
          "2020-11-26",
          "2020-11-27",
          "2020-11-28",
          "2020-11-29",
          "2020-11-30",
          "2020-12-01",
          "2020-12-02",
          "2020-12-03",
          "2020-12-04",
          "2020-12-05",
          "2020-12-06",
          "2020-12-07",
          "2020-12-08",
          "2020-12-09",
          "2020-12-10",
          "2020-12-11",
          "2020-12-12",
          "2020-12-13",
          "2020-12-14",
          "2020-12-15",
          "2020-12-16",
          "2020-12-17",
          "2020-12-18",
          "2020-12-19",
          "2020-12-20",
          "2020-12-21",
          "2020-12-22",
          "2020-12-23",
          "2020-12-24",
          "2020-12-25",
          "2020-12-26",
          "2020-12-27",
          "2020-12-28",
          "2020-12-29",
          "2020-12-30",
          "2020-12-31",
          "2021-01-01",
          "2021-01-02",
          "2021-01-03",
          "2021-01-04",
          "2021-01-05",
          "2021-01-06",
          "2021-01-07",
          "2021-01-08",
          "2021-01-09",
          "2021-01-10",
          "2021-01-11",
          "2021-01-12",
          "2021-01-13",
          "2021-01-14",
          "2021-01-15",
          "2021-01-16",
          "2021-01-17",
          "2021-01-18",
          "2021-01-19",
          "2021-01-20",
          "2021-01-21",
          "2021-01-22",
          "2021-01-23",
          "2021-01-24",
          "2021-01-25",
          "2021-01-26",
          "2021-01-27",
          "2021-01-28",
          "2021-01-29",
          "2021-01-30",
          "2021-01-31",
          "2021-02-01",
          "2021-02-02",
          "2021-02-03",
          "2021-02-04",
          "2021-02-05",
          "2021-02-06",
          "2021-02-07",
          "2021-02-08",
          "2021-02-09",
          "2021-02-10",
          "2021-02-11",
          "2021-02-12",
          "2021-02-13",
          "2021-02-14",
          "2021-02-15",
          "2021-02-16",
          "2021-02-17",
          "2021-02-18",
          "2021-02-19",
          "2021-02-20",
          "2021-02-21",
          "2021-02-22",
          "2021-02-23",
          "2021-02-24",
          "2021-02-25",
          "2021-02-26",
          "2021-02-27",
          "2021-02-28",
          "2021-03-01",
          "2021-03-02",
          "2021-03-03",
          "2021-03-04",
          "2021-03-05",
          "2021-03-06",
          "2021-03-07",
          "2021-03-08",
          "2021-03-09",
          "2021-03-10",
          "2021-03-11",
          "2021-03-12",
          "2021-03-13",
          "2021-03-14",
          "2021-03-15",
          "2021-03-16",
          "2021-03-17",
          "2021-03-18",
          "2021-03-19",
          "2021-03-20",
          "2021-03-21",
          "2021-03-22",
          "2021-03-23",
          "2021-03-24",
          "2021-03-25",
          "2021-03-26",
          "2021-03-27",
          "2021-03-28",
          "2021-03-29",
          "2021-03-30",
          "2021-03-31",
          "2021-04-01",
          "2021-04-02",
          "2021-04-03",
          "2021-04-04",
          "2021-04-05",
          "2021-04-06",
          "2021-04-07",
          "2021-04-08",
          "2021-04-09",
          "2021-04-10",
          "2021-04-11",
          "2021-04-12",
          "2021-04-13",
          "2021-04-14",
          "2021-04-15",
          "2021-04-16",
          "2021-04-17",
          "2021-04-18",
          "2021-04-19",
          "2021-04-20",
          "2021-04-21",
          "2021-04-22",
          "2021-04-23",
          "2021-04-24",
          "2021-04-25",
          "2021-04-26",
          "2021-04-27",
          "2021-04-28",
          "2021-04-29",
          "2021-04-30",
          "2021-05-01",
          "2021-05-02",
          "2021-05-03",
          "2021-05-04",
          "2021-05-05",
          "2021-05-06",
          "2021-05-07",
          "2021-05-08",
          "2021-05-09",
          "2021-05-10",
          "2021-05-11",
          "2021-05-12",
          "2021-05-13",
          "2021-05-14",
          "2021-05-15",
          "2021-05-16",
          "2021-05-17",
          "2021-05-18",
          "2021-05-19",
          "2021-05-20",
          "2021-05-21",
          "2021-05-22",
          "2021-05-23",
          "2021-05-24",
          "2021-05-25",
          "2021-05-26",
          "2021-05-27",
          "2021-05-28",
          "2021-05-29",
          "2021-05-30",
          "2021-05-31",
          "2021-06-01",
          "2021-06-02",
          "2021-06-03",
          "2021-06-04",
          "2021-06-05",
          "2021-06-06",
          "2021-06-07",
          "2021-06-08",
          "2021-06-09",
          "2021-06-10",
          "2021-06-11",
          "2021-06-12",
          "2021-06-13",
          "2021-06-14",
          "2021-06-15",
          "2021-06-16",
          "2021-06-17",
          "2021-06-18",
          "2021-06-19",
          "2021-06-20",
          "2021-06-21",
          "2021-06-22",
          "2021-06-23",
          "2021-06-24",
          "2021-06-25",
          "2021-06-26",
          "2021-06-27",
          "2021-06-28",
          "2021-06-29",
          "2021-06-30",
          "2021-07-01",
          "2021-07-02",
          "2021-07-03",
          "2021-07-04",
          "2021-07-05",
          "2021-07-06",
          "2021-07-07",
          "2021-07-08",
          "2021-07-09",
          "2021-07-10",
          "2021-07-11",
          "2021-07-12",
          "2021-07-13",
          "2021-07-14",
          "2021-07-15",
          "2021-07-16",
          "2021-07-17",
          "2021-07-18",
          "2021-07-19",
          "2021-07-20"
         ],
         "xaxis": "x",
         "y": [
          1,
          1,
          2,
          2,
          2,
          4,
          4,
          4,
          4,
          4,
          5,
          5,
          7,
          7,
          7,
          7,
          7,
          7,
          7,
          7,
          7,
          7,
          8,
          8,
          8,
          8,
          9,
          9,
          9,
          10,
          12,
          12,
          14,
          15,
          21,
          26,
          32,
          37,
          42,
          46,
          60,
          64,
          74,
          88,
          92,
          127,
          141,
          213,
          236,
          296,
          450,
          532,
          732,
          921,
          1175,
          1653,
          2045,
          2600,
          3185,
          3683,
          4550,
          5249,
          6085,
          7015,
          8121,
          9246,
          10527,
          12219,
          13559,
          14906,
          16475,
          17521,
          18858,
          20122,
          21502,
          22777,
          24084,
          25303,
          26937,
          28563,
          30223,
          32790,
          34876,
          36358,
          38026,
          39591,
          41334,
          43641,
          45310,
          47007,
          48570,
          50002,
          51621,
          53297,
          55061,
          56716,
          58549,
          60023,
          61183,
          62743,
          64100,
          65703,
          67146,
          68485,
          69645,
          70736,
          71886,
          73083,
          74307,
          75428,
          76691,
          77871,
          78992,
          80033,
          81183,
          82488,
          83650,
          84814,
          85823,
          86749,
          87697,
          88502,
          89380,
          90219,
          91054,
          91805,
          92488,
          93330,
          93991,
          94658,
          95283,
          95949,
          96497,
          97164,
          97685,
          98174,
          98669,
          99118,
          99548,
          99959,
          100286,
          100655,
          101021,
          101429,
          101830,
          102233,
          102652,
          102957,
          103313,
          103707,
          104063,
          104387,
          104638,
          104975,
          105348,
          105732,
          106029,
          106227,
          106583,
          106903,
          107116,
          107303,
          107718,
          107973,
          108302,
          108617,
          108957,
          109133,
          109292,
          109965,
          110352,
          110713,
          111160,
          111630,
          111976,
          112231,
          112982,
          113487,
          113836,
          114494,
          115208,
          115554,
          115851,
          116477,
          116838,
          117325,
          117740,
          118297,
          118523,
          118719,
          118945,
          119658,
          120002,
          120315,
          120851,
          121084,
          121296,
          121926,
          122271,
          122580,
          123051,
          123464,
          123670,
          123826,
          124035,
          124936,
          125269,
          125505,
          126212,
          126421,
          126680,
          127433,
          127778,
          128239,
          128706,
          129253,
          129582,
          129829,
          130849,
          131385,
          131956,
          132582,
          133197,
          133587,
          133955,
          134335,
          135826,
          136276,
          137169,
          137976,
          138515,
          139028,
          140487,
          141318,
          142270,
          143149,
          144513,
          145137,
          146321,
          148046,
          149351,
          150652,
          151944,
          153680,
          154948,
          156560,
          158510,
          160441,
          162736,
          164583,
          166824,
          168178,
          170289,
          172826,
          174835,
          176535,
          178904,
          181837,
          183792,
          185566,
          186494,
          190739,
          193208,
          195684,
          198329,
          199523,
          201861,
          204976,
          207465,
          210061,
          212541,
          215574,
          216935,
          219704,
          223984,
          226721,
          229446,
          232497,
          235898,
          238191,
          240586,
          243974,
          248905,
          251822,
          254739,
          260195,
          264545,
          268395,
          273304,
          277892,
          281888,
          287329,
          292173,
          296394,
          300597,
          306437,
          311043,
          315586,
          320481,
          325356,
          330240,
          335038,
          341746,
          347135,
          352376,
          357926,
          363884,
          369510,
          374880,
          382708,
          388543,
          395028,
          401325,
          408165,
          414131,
          420281,
          428054,
          434320,
          440737,
          447341,
          454254,
          460332,
          466016,
          474661,
          480952,
          487685,
          495152,
          502197,
          508674,
          514500,
          522076,
          528307,
          535204,
          541936,
          545983,
          551184,
          556649,
          563156,
          571823,
          580573,
          587429,
          591149,
          598091,
          608734,
          618801,
          626129,
          634437,
          642978,
          652373,
          659647,
          666375,
          674624,
          681015,
          688097,
          695359,
          702203,
          708263,
          714316,
          720440,
          725599,
          731371,
          737654,
          743384,
          748123,
          752510,
          758142,
          762368,
          766633,
          771358,
          776171,
          780147,
          783735,
          788323,
          791385,
          794681,
          798650,
          802904,
          806010,
          808973,
          812700,
          815526,
          818967,
          822038,
          824754,
          828335,
          830352,
          832058,
          836455,
          838998,
          842393,
          845454,
          848060,
          850617,
          853901,
          857206,
          860200,
          863301,
          866528,
          869058,
          871243,
          874909,
          877747,
          880487,
          883619,
          886492,
          889255,
          891807,
          895889,
          898963,
          901948,
          905071,
          908645,
          911560,
          914204,
          917994,
          921011,
          924444,
          928117,
          932391,
          935714,
          938856,
          943715,
          947393,
          951589,
          956755,
          961839,
          966076,
          970166,
          976479,
          980365,
          989493,
          995249,
          998882,
          1005978,
          1009472,
          1017761,
          1028626,
          1036386,
          1044733,
          1053999,
          1061369,
          1069041,
          1079582,
          1087048,
          1096000,
          1105778,
          1115036,
          1122116,
          1130006,
          1140322,
          1147636,
          1155855,
          1164756,
          1173220,
          1180681,
          1187484,
          1196400,
          1203429,
          1211651,
          1220914,
          1229305,
          1235669,
          1241406,
          1252391,
          1259137,
          1266916,
          1275006,
          1282734,
          1288676,
          1294120,
          1302993,
          1308541,
          1315211,
          1321104,
          1327839,
          1332229,
          1336374,
          1342824,
          1346736,
          1351766,
          1356616,
          1360950,
          1364195,
          1367023,
          1368739,
          1372492,
          1374976,
          1379674,
          1382769,
          1384928,
          1386871,
          1389814,
          1391540,
          1393732,
          1395909,
          1397898,
          1399231,
          1400580,
          1402369,
          1403490,
          1404927,
          1406417,
          1407798,
          1408935,
          1409909,
          1411228,
          1412121,
          1413203,
          1414304,
          1415272,
          1416009,
          1416589,
          1417625,
          1418135,
          1418853,
          1419569,
          1420191,
          1420724,
          1421122,
          1422053,
          1422618,
          1423170,
          1423321,
          1424160,
          1424502,
          1424784,
          1425594,
          1425884,
          1426435,
          1427027,
          1427582,
          1427899,
          1428162,
          1428689,
          1429029,
          1429369,
          1429747,
          1430127,
          1430437,
          1430740,
          1431378,
          1431691
         ],
         "yaxis": "y"
        }
       ],
       "layout": {
        "legend": {
         "tracegroupgap": 0
        },
        "template": {
         "data": {
          "bar": [
           {
            "error_x": {
             "color": "#f2f5fa"
            },
            "error_y": {
             "color": "#f2f5fa"
            },
            "marker": {
             "line": {
              "color": "rgb(17,17,17)",
              "width": 0.5
             },
             "pattern": {
              "fillmode": "overlay",
              "size": 10,
              "solidity": 0.2
             }
            },
            "type": "bar"
           }
          ],
          "barpolar": [
           {
            "marker": {
             "line": {
              "color": "rgb(17,17,17)",
              "width": 0.5
             },
             "pattern": {
              "fillmode": "overlay",
              "size": 10,
              "solidity": 0.2
             }
            },
            "type": "barpolar"
           }
          ],
          "carpet": [
           {
            "aaxis": {
             "endlinecolor": "#A2B1C6",
             "gridcolor": "#506784",
             "linecolor": "#506784",
             "minorgridcolor": "#506784",
             "startlinecolor": "#A2B1C6"
            },
            "baxis": {
             "endlinecolor": "#A2B1C6",
             "gridcolor": "#506784",
             "linecolor": "#506784",
             "minorgridcolor": "#506784",
             "startlinecolor": "#A2B1C6"
            },
            "type": "carpet"
           }
          ],
          "choropleth": [
           {
            "colorbar": {
             "outlinewidth": 0,
             "ticks": ""
            },
            "type": "choropleth"
           }
          ],
          "contour": [
           {
            "colorbar": {
             "outlinewidth": 0,
             "ticks": ""
            },
            "colorscale": [
             [
              0,
              "#0d0887"
             ],
             [
              0.1111111111111111,
              "#46039f"
             ],
             [
              0.2222222222222222,
              "#7201a8"
             ],
             [
              0.3333333333333333,
              "#9c179e"
             ],
             [
              0.4444444444444444,
              "#bd3786"
             ],
             [
              0.5555555555555556,
              "#d8576b"
             ],
             [
              0.6666666666666666,
              "#ed7953"
             ],
             [
              0.7777777777777778,
              "#fb9f3a"
             ],
             [
              0.8888888888888888,
              "#fdca26"
             ],
             [
              1,
              "#f0f921"
             ]
            ],
            "type": "contour"
           }
          ],
          "contourcarpet": [
           {
            "colorbar": {
             "outlinewidth": 0,
             "ticks": ""
            },
            "type": "contourcarpet"
           }
          ],
          "heatmap": [
           {
            "colorbar": {
             "outlinewidth": 0,
             "ticks": ""
            },
            "colorscale": [
             [
              0,
              "#0d0887"
             ],
             [
              0.1111111111111111,
              "#46039f"
             ],
             [
              0.2222222222222222,
              "#7201a8"
             ],
             [
              0.3333333333333333,
              "#9c179e"
             ],
             [
              0.4444444444444444,
              "#bd3786"
             ],
             [
              0.5555555555555556,
              "#d8576b"
             ],
             [
              0.6666666666666666,
              "#ed7953"
             ],
             [
              0.7777777777777778,
              "#fb9f3a"
             ],
             [
              0.8888888888888888,
              "#fdca26"
             ],
             [
              1,
              "#f0f921"
             ]
            ],
            "type": "heatmap"
           }
          ],
          "heatmapgl": [
           {
            "colorbar": {
             "outlinewidth": 0,
             "ticks": ""
            },
            "colorscale": [
             [
              0,
              "#0d0887"
             ],
             [
              0.1111111111111111,
              "#46039f"
             ],
             [
              0.2222222222222222,
              "#7201a8"
             ],
             [
              0.3333333333333333,
              "#9c179e"
             ],
             [
              0.4444444444444444,
              "#bd3786"
             ],
             [
              0.5555555555555556,
              "#d8576b"
             ],
             [
              0.6666666666666666,
              "#ed7953"
             ],
             [
              0.7777777777777778,
              "#fb9f3a"
             ],
             [
              0.8888888888888888,
              "#fdca26"
             ],
             [
              1,
              "#f0f921"
             ]
            ],
            "type": "heatmapgl"
           }
          ],
          "histogram": [
           {
            "marker": {
             "pattern": {
              "fillmode": "overlay",
              "size": 10,
              "solidity": 0.2
             }
            },
            "type": "histogram"
           }
          ],
          "histogram2d": [
           {
            "colorbar": {
             "outlinewidth": 0,
             "ticks": ""
            },
            "colorscale": [
             [
              0,
              "#0d0887"
             ],
             [
              0.1111111111111111,
              "#46039f"
             ],
             [
              0.2222222222222222,
              "#7201a8"
             ],
             [
              0.3333333333333333,
              "#9c179e"
             ],
             [
              0.4444444444444444,
              "#bd3786"
             ],
             [
              0.5555555555555556,
              "#d8576b"
             ],
             [
              0.6666666666666666,
              "#ed7953"
             ],
             [
              0.7777777777777778,
              "#fb9f3a"
             ],
             [
              0.8888888888888888,
              "#fdca26"
             ],
             [
              1,
              "#f0f921"
             ]
            ],
            "type": "histogram2d"
           }
          ],
          "histogram2dcontour": [
           {
            "colorbar": {
             "outlinewidth": 0,
             "ticks": ""
            },
            "colorscale": [
             [
              0,
              "#0d0887"
             ],
             [
              0.1111111111111111,
              "#46039f"
             ],
             [
              0.2222222222222222,
              "#7201a8"
             ],
             [
              0.3333333333333333,
              "#9c179e"
             ],
             [
              0.4444444444444444,
              "#bd3786"
             ],
             [
              0.5555555555555556,
              "#d8576b"
             ],
             [
              0.6666666666666666,
              "#ed7953"
             ],
             [
              0.7777777777777778,
              "#fb9f3a"
             ],
             [
              0.8888888888888888,
              "#fdca26"
             ],
             [
              1,
              "#f0f921"
             ]
            ],
            "type": "histogram2dcontour"
           }
          ],
          "mesh3d": [
           {
            "colorbar": {
             "outlinewidth": 0,
             "ticks": ""
            },
            "type": "mesh3d"
           }
          ],
          "parcoords": [
           {
            "line": {
             "colorbar": {
              "outlinewidth": 0,
              "ticks": ""
             }
            },
            "type": "parcoords"
           }
          ],
          "pie": [
           {
            "automargin": true,
            "type": "pie"
           }
          ],
          "scatter": [
           {
            "marker": {
             "line": {
              "color": "#283442"
             }
            },
            "type": "scatter"
           }
          ],
          "scatter3d": [
           {
            "line": {
             "colorbar": {
              "outlinewidth": 0,
              "ticks": ""
             }
            },
            "marker": {
             "colorbar": {
              "outlinewidth": 0,
              "ticks": ""
             }
            },
            "type": "scatter3d"
           }
          ],
          "scattercarpet": [
           {
            "marker": {
             "colorbar": {
              "outlinewidth": 0,
              "ticks": ""
             }
            },
            "type": "scattercarpet"
           }
          ],
          "scattergeo": [
           {
            "marker": {
             "colorbar": {
              "outlinewidth": 0,
              "ticks": ""
             }
            },
            "type": "scattergeo"
           }
          ],
          "scattergl": [
           {
            "marker": {
             "line": {
              "color": "#283442"
             }
            },
            "type": "scattergl"
           }
          ],
          "scattermapbox": [
           {
            "marker": {
             "colorbar": {
              "outlinewidth": 0,
              "ticks": ""
             }
            },
            "type": "scattermapbox"
           }
          ],
          "scatterpolar": [
           {
            "marker": {
             "colorbar": {
              "outlinewidth": 0,
              "ticks": ""
             }
            },
            "type": "scatterpolar"
           }
          ],
          "scatterpolargl": [
           {
            "marker": {
             "colorbar": {
              "outlinewidth": 0,
              "ticks": ""
             }
            },
            "type": "scatterpolargl"
           }
          ],
          "scatterternary": [
           {
            "marker": {
             "colorbar": {
              "outlinewidth": 0,
              "ticks": ""
             }
            },
            "type": "scatterternary"
           }
          ],
          "surface": [
           {
            "colorbar": {
             "outlinewidth": 0,
             "ticks": ""
            },
            "colorscale": [
             [
              0,
              "#0d0887"
             ],
             [
              0.1111111111111111,
              "#46039f"
             ],
             [
              0.2222222222222222,
              "#7201a8"
             ],
             [
              0.3333333333333333,
              "#9c179e"
             ],
             [
              0.4444444444444444,
              "#bd3786"
             ],
             [
              0.5555555555555556,
              "#d8576b"
             ],
             [
              0.6666666666666666,
              "#ed7953"
             ],
             [
              0.7777777777777778,
              "#fb9f3a"
             ],
             [
              0.8888888888888888,
              "#fdca26"
             ],
             [
              1,
              "#f0f921"
             ]
            ],
            "type": "surface"
           }
          ],
          "table": [
           {
            "cells": {
             "fill": {
              "color": "#506784"
             },
             "line": {
              "color": "rgb(17,17,17)"
             }
            },
            "header": {
             "fill": {
              "color": "#2a3f5f"
             },
             "line": {
              "color": "rgb(17,17,17)"
             }
            },
            "type": "table"
           }
          ]
         },
         "layout": {
          "annotationdefaults": {
           "arrowcolor": "#f2f5fa",
           "arrowhead": 0,
           "arrowwidth": 1
          },
          "autotypenumbers": "strict",
          "coloraxis": {
           "colorbar": {
            "outlinewidth": 0,
            "ticks": ""
           }
          },
          "colorscale": {
           "diverging": [
            [
             0,
             "#8e0152"
            ],
            [
             0.1,
             "#c51b7d"
            ],
            [
             0.2,
             "#de77ae"
            ],
            [
             0.3,
             "#f1b6da"
            ],
            [
             0.4,
             "#fde0ef"
            ],
            [
             0.5,
             "#f7f7f7"
            ],
            [
             0.6,
             "#e6f5d0"
            ],
            [
             0.7,
             "#b8e186"
            ],
            [
             0.8,
             "#7fbc41"
            ],
            [
             0.9,
             "#4d9221"
            ],
            [
             1,
             "#276419"
            ]
           ],
           "sequential": [
            [
             0,
             "#0d0887"
            ],
            [
             0.1111111111111111,
             "#46039f"
            ],
            [
             0.2222222222222222,
             "#7201a8"
            ],
            [
             0.3333333333333333,
             "#9c179e"
            ],
            [
             0.4444444444444444,
             "#bd3786"
            ],
            [
             0.5555555555555556,
             "#d8576b"
            ],
            [
             0.6666666666666666,
             "#ed7953"
            ],
            [
             0.7777777777777778,
             "#fb9f3a"
            ],
            [
             0.8888888888888888,
             "#fdca26"
            ],
            [
             1,
             "#f0f921"
            ]
           ],
           "sequentialminus": [
            [
             0,
             "#0d0887"
            ],
            [
             0.1111111111111111,
             "#46039f"
            ],
            [
             0.2222222222222222,
             "#7201a8"
            ],
            [
             0.3333333333333333,
             "#9c179e"
            ],
            [
             0.4444444444444444,
             "#bd3786"
            ],
            [
             0.5555555555555556,
             "#d8576b"
            ],
            [
             0.6666666666666666,
             "#ed7953"
            ],
            [
             0.7777777777777778,
             "#fb9f3a"
            ],
            [
             0.8888888888888888,
             "#fdca26"
            ],
            [
             1,
             "#f0f921"
            ]
           ]
          },
          "colorway": [
           "#636efa",
           "#EF553B",
           "#00cc96",
           "#ab63fa",
           "#FFA15A",
           "#19d3f3",
           "#FF6692",
           "#B6E880",
           "#FF97FF",
           "#FECB52"
          ],
          "font": {
           "color": "#f2f5fa"
          },
          "geo": {
           "bgcolor": "rgb(17,17,17)",
           "lakecolor": "rgb(17,17,17)",
           "landcolor": "rgb(17,17,17)",
           "showlakes": true,
           "showland": true,
           "subunitcolor": "#506784"
          },
          "hoverlabel": {
           "align": "left"
          },
          "hovermode": "closest",
          "mapbox": {
           "style": "dark"
          },
          "paper_bgcolor": "rgb(17,17,17)",
          "plot_bgcolor": "rgb(17,17,17)",
          "polar": {
           "angularaxis": {
            "gridcolor": "#506784",
            "linecolor": "#506784",
            "ticks": ""
           },
           "bgcolor": "rgb(17,17,17)",
           "radialaxis": {
            "gridcolor": "#506784",
            "linecolor": "#506784",
            "ticks": ""
           }
          },
          "scene": {
           "xaxis": {
            "backgroundcolor": "rgb(17,17,17)",
            "gridcolor": "#506784",
            "gridwidth": 2,
            "linecolor": "#506784",
            "showbackground": true,
            "ticks": "",
            "zerolinecolor": "#C8D4E3"
           },
           "yaxis": {
            "backgroundcolor": "rgb(17,17,17)",
            "gridcolor": "#506784",
            "gridwidth": 2,
            "linecolor": "#506784",
            "showbackground": true,
            "ticks": "",
            "zerolinecolor": "#C8D4E3"
           },
           "zaxis": {
            "backgroundcolor": "rgb(17,17,17)",
            "gridcolor": "#506784",
            "gridwidth": 2,
            "linecolor": "#506784",
            "showbackground": true,
            "ticks": "",
            "zerolinecolor": "#C8D4E3"
           }
          },
          "shapedefaults": {
           "line": {
            "color": "#f2f5fa"
           }
          },
          "sliderdefaults": {
           "bgcolor": "#C8D4E3",
           "bordercolor": "rgb(17,17,17)",
           "borderwidth": 1,
           "tickwidth": 0
          },
          "ternary": {
           "aaxis": {
            "gridcolor": "#506784",
            "linecolor": "#506784",
            "ticks": ""
           },
           "baxis": {
            "gridcolor": "#506784",
            "linecolor": "#506784",
            "ticks": ""
           },
           "bgcolor": "rgb(17,17,17)",
           "caxis": {
            "gridcolor": "#506784",
            "linecolor": "#506784",
            "ticks": ""
           }
          },
          "title": {
           "x": 0.05
          },
          "updatemenudefaults": {
           "bgcolor": "#506784",
           "borderwidth": 0
          },
          "xaxis": {
           "automargin": true,
           "gridcolor": "#283442",
           "linecolor": "#506784",
           "ticks": "",
           "title": {
            "standoff": 15
           },
           "zerolinecolor": "#283442",
           "zerolinewidth": 2
          },
          "yaxis": {
           "automargin": true,
           "gridcolor": "#283442",
           "linecolor": "#506784",
           "ticks": "",
           "title": {
            "standoff": 15
           },
           "zerolinecolor": "#283442",
           "zerolinewidth": 2
          }
         }
        },
        "title": {
         "text": "Confirmed Cases Over Time in Canada"
        },
        "xaxis": {
         "anchor": "y",
         "domain": [
          0,
          1
         ],
         "title": {
          "text": "Day"
         }
        },
        "yaxis": {
         "anchor": "x",
         "domain": [
          0,
          1
         ],
         "title": {
          "text": "Cases"
         }
        }
       }
      }
     },
     "metadata": {}
    },
    {
     "output_type": "display_data",
     "data": {
      "application/vnd.plotly.v1+json": {
       "config": {
        "plotlyServerURL": "https://plot.ly"
       },
       "data": [
        {
         "hovertemplate": "Day=%{x}<br>Cases=%{y}<extra></extra>",
         "legendgroup": "",
         "line": {
          "color": "Blue",
          "dash": "solid"
         },
         "mode": "lines",
         "name": "",
         "orientation": "v",
         "showlegend": false,
         "type": "scatter",
         "x": [
          "2020-01-22",
          "2020-01-23",
          "2020-01-24",
          "2020-01-25",
          "2020-01-26",
          "2020-01-27",
          "2020-01-28",
          "2020-01-29",
          "2020-01-30",
          "2020-01-31",
          "2020-02-01",
          "2020-02-02",
          "2020-02-03",
          "2020-02-04",
          "2020-02-05",
          "2020-02-06",
          "2020-02-07",
          "2020-02-08",
          "2020-02-09",
          "2020-02-10",
          "2020-02-11",
          "2020-02-12",
          "2020-02-13",
          "2020-02-14",
          "2020-02-15",
          "2020-02-16",
          "2020-02-17",
          "2020-02-18",
          "2020-02-19",
          "2020-02-20",
          "2020-02-21",
          "2020-02-22",
          "2020-02-23",
          "2020-02-24",
          "2020-02-29",
          "2020-03-01",
          "2020-03-02",
          "2020-03-03",
          "2020-03-04",
          "2020-03-05",
          "2020-03-06",
          "2020-03-07",
          "2020-03-08",
          "2020-03-09",
          "2020-03-10",
          "2020-03-11",
          "2020-03-12",
          "2020-03-13",
          "2020-03-14",
          "2020-03-15",
          "2020-03-16",
          "2020-03-17",
          "2020-03-18",
          "2020-03-19",
          "2020-03-20",
          "2020-03-21",
          "2020-03-22",
          "2020-03-23",
          "2020-03-24",
          "2020-03-25",
          "2020-03-26",
          "2020-03-27",
          "2020-03-28",
          "2020-03-29",
          "2020-03-30",
          "2020-03-31",
          "2020-04-01",
          "2020-04-02",
          "2020-04-03",
          "2020-04-04",
          "2020-04-05",
          "2020-04-06",
          "2020-04-07",
          "2020-04-08",
          "2020-04-09",
          "2020-04-10",
          "2020-04-11",
          "2020-04-12",
          "2020-04-13",
          "2020-04-14",
          "2020-04-15",
          "2020-04-16",
          "2020-04-17",
          "2020-04-18",
          "2020-04-19",
          "2020-04-20",
          "2020-04-21",
          "2020-04-22",
          "2020-04-23",
          "2020-04-24",
          "2020-04-25",
          "2020-04-26",
          "2020-04-27",
          "2020-04-28",
          "2020-04-29",
          "2020-04-30",
          "2020-05-01",
          "2020-05-02",
          "2020-05-03",
          "2020-05-04",
          "2020-05-05",
          "2020-05-06",
          "2020-05-07",
          "2020-05-08",
          "2020-05-09",
          "2020-05-10",
          "2020-05-11",
          "2020-05-12",
          "2020-05-13",
          "2020-05-14",
          "2020-05-15",
          "2020-05-16",
          "2020-05-17",
          "2020-05-18",
          "2020-05-19",
          "2020-05-20",
          "2020-05-21",
          "2020-05-22",
          "2020-05-23",
          "2020-05-24",
          "2020-05-25",
          "2020-05-26",
          "2020-05-27",
          "2020-05-28",
          "2020-05-29",
          "2020-05-30",
          "2020-05-31",
          "2020-06-01",
          "2020-06-02",
          "2020-06-03",
          "2020-06-04",
          "2020-06-05",
          "2020-06-06",
          "2020-06-07",
          "2020-06-08",
          "2020-06-09",
          "2020-06-10",
          "2020-06-11",
          "2020-06-12",
          "2020-06-13",
          "2020-06-14",
          "2020-06-15",
          "2020-06-16",
          "2020-06-17",
          "2020-06-18",
          "2020-06-19",
          "2020-06-20",
          "2020-06-21",
          "2020-06-22",
          "2020-06-23",
          "2020-06-24",
          "2020-06-25",
          "2020-06-26",
          "2020-06-27",
          "2020-06-28",
          "2020-06-29",
          "2020-06-30",
          "2020-07-01",
          "2020-07-02",
          "2020-07-03",
          "2020-07-04",
          "2020-07-05",
          "2020-07-06",
          "2020-07-07",
          "2020-07-08",
          "2020-07-09",
          "2020-07-10",
          "2020-07-11",
          "2020-07-12",
          "2020-07-13",
          "2020-07-14",
          "2020-07-15",
          "2020-07-16",
          "2020-07-17",
          "2020-07-18",
          "2020-07-19",
          "2020-07-20",
          "2020-07-21",
          "2020-07-22",
          "2020-07-23",
          "2020-07-24",
          "2020-07-25",
          "2020-07-26",
          "2020-07-27",
          "2020-07-28",
          "2020-07-29",
          "2020-07-30",
          "2020-07-31",
          "2020-08-01",
          "2020-08-02",
          "2020-08-03",
          "2020-08-04",
          "2020-08-05",
          "2020-08-06",
          "2020-08-07",
          "2020-08-08",
          "2020-08-09",
          "2020-08-10",
          "2020-08-11",
          "2020-08-12",
          "2020-08-13",
          "2020-08-14",
          "2020-08-15",
          "2020-08-16",
          "2020-08-17",
          "2020-08-18",
          "2020-08-19",
          "2020-08-20",
          "2020-08-21",
          "2020-08-22",
          "2020-08-23",
          "2020-08-24",
          "2020-08-25",
          "2020-08-26",
          "2020-08-27",
          "2020-08-28",
          "2020-08-29",
          "2020-08-30",
          "2020-08-31",
          "2020-09-01",
          "2020-09-02",
          "2020-09-03",
          "2020-09-04",
          "2020-09-05",
          "2020-09-06",
          "2020-09-07",
          "2020-09-08",
          "2020-09-09",
          "2020-09-10",
          "2020-09-11",
          "2020-09-12",
          "2020-09-13",
          "2020-09-14",
          "2020-09-15",
          "2020-09-16",
          "2020-09-17",
          "2020-09-18",
          "2020-09-19",
          "2020-09-20",
          "2020-09-21",
          "2020-09-22",
          "2020-09-23",
          "2020-09-24",
          "2020-09-25",
          "2020-09-26",
          "2020-09-27",
          "2020-09-28",
          "2020-09-29",
          "2020-09-30",
          "2020-10-01",
          "2020-10-02",
          "2020-10-03",
          "2020-10-04",
          "2020-10-05",
          "2020-10-06",
          "2020-10-07",
          "2020-10-08",
          "2020-10-09",
          "2020-10-10",
          "2020-10-11",
          "2020-10-12",
          "2020-10-13",
          "2020-10-14",
          "2020-10-15",
          "2020-10-16",
          "2020-10-17",
          "2020-10-18",
          "2020-10-19",
          "2020-10-20",
          "2020-10-21",
          "2020-10-22",
          "2020-10-23",
          "2020-10-24",
          "2020-10-25",
          "2020-10-26",
          "2020-10-27",
          "2020-10-28",
          "2020-10-29",
          "2020-10-30",
          "2020-10-31",
          "2020-11-01",
          "2020-11-02",
          "2020-11-03",
          "2020-11-04",
          "2020-11-05",
          "2020-11-06",
          "2020-11-07",
          "2020-11-08",
          "2020-11-09",
          "2020-11-10",
          "2020-11-11",
          "2020-11-12",
          "2020-11-13",
          "2020-11-14",
          "2020-11-15",
          "2020-11-16",
          "2020-11-17",
          "2020-11-18",
          "2020-11-19",
          "2020-11-20",
          "2020-11-21",
          "2020-11-22",
          "2020-11-23",
          "2020-11-24",
          "2020-11-25",
          "2020-11-26",
          "2020-11-27",
          "2020-11-28",
          "2020-11-29",
          "2020-11-30",
          "2020-12-01",
          "2020-12-02",
          "2020-12-03",
          "2020-12-04",
          "2020-12-05",
          "2020-12-06",
          "2020-12-07",
          "2020-12-08",
          "2020-12-09",
          "2020-12-10",
          "2020-12-11",
          "2020-12-12",
          "2020-12-13",
          "2020-12-14",
          "2020-12-15",
          "2020-12-16",
          "2020-12-17",
          "2020-12-18",
          "2020-12-19",
          "2020-12-20",
          "2020-12-21",
          "2020-12-22",
          "2020-12-23",
          "2020-12-24",
          "2020-12-25",
          "2020-12-26",
          "2020-12-27",
          "2020-12-28",
          "2020-12-29",
          "2020-12-30",
          "2020-12-31",
          "2021-01-01",
          "2021-01-02",
          "2021-01-03",
          "2021-01-04",
          "2021-01-05",
          "2021-01-06",
          "2021-01-07",
          "2021-01-08",
          "2021-01-09",
          "2021-01-10",
          "2021-01-11",
          "2021-01-12",
          "2021-01-13",
          "2021-01-14",
          "2021-01-15",
          "2021-01-16",
          "2021-01-17",
          "2021-01-18",
          "2021-01-19",
          "2021-01-20",
          "2021-01-21",
          "2021-01-22",
          "2021-01-23",
          "2021-01-24",
          "2021-01-25",
          "2021-01-26",
          "2021-01-27",
          "2021-01-28",
          "2021-01-29",
          "2021-01-30",
          "2021-01-31",
          "2021-02-01",
          "2021-02-02",
          "2021-02-03",
          "2021-02-04",
          "2021-02-05",
          "2021-02-06",
          "2021-02-07",
          "2021-02-08",
          "2021-02-09",
          "2021-02-10",
          "2021-02-11",
          "2021-02-12",
          "2021-02-13",
          "2021-02-14",
          "2021-02-15",
          "2021-02-16",
          "2021-02-17",
          "2021-02-18",
          "2021-02-19",
          "2021-02-20",
          "2021-02-21",
          "2021-02-22",
          "2021-02-23",
          "2021-02-24",
          "2021-02-25",
          "2021-02-26",
          "2021-02-27",
          "2021-02-28",
          "2021-03-01",
          "2021-03-02",
          "2021-03-03",
          "2021-03-04",
          "2021-03-05",
          "2021-03-06",
          "2021-03-07",
          "2021-03-08",
          "2021-03-09",
          "2021-03-10",
          "2021-03-11",
          "2021-03-12",
          "2021-03-13",
          "2021-03-14",
          "2021-03-15",
          "2021-03-16",
          "2021-03-17",
          "2021-03-18",
          "2021-03-19",
          "2021-03-20",
          "2021-03-21",
          "2021-03-22",
          "2021-03-23",
          "2021-03-24",
          "2021-03-25",
          "2021-03-26",
          "2021-03-27",
          "2021-03-28",
          "2021-03-29",
          "2021-03-30",
          "2021-03-31",
          "2021-04-01",
          "2021-04-02",
          "2021-04-03",
          "2021-04-04",
          "2021-04-05",
          "2021-04-06",
          "2021-04-07",
          "2021-04-08",
          "2021-04-09",
          "2021-04-10",
          "2021-04-11",
          "2021-04-12",
          "2021-04-13",
          "2021-04-14",
          "2021-04-15",
          "2021-04-16",
          "2021-04-17",
          "2021-04-18",
          "2021-04-19",
          "2021-04-20",
          "2021-04-21",
          "2021-04-22",
          "2021-04-23",
          "2021-04-24",
          "2021-04-25",
          "2021-04-26",
          "2021-04-27",
          "2021-04-28",
          "2021-04-29",
          "2021-04-30",
          "2021-05-01",
          "2021-05-02",
          "2021-05-03",
          "2021-05-04",
          "2021-05-05",
          "2021-05-06",
          "2021-05-07",
          "2021-05-08",
          "2021-05-09",
          "2021-05-10",
          "2021-05-11",
          "2021-05-12",
          "2021-05-13",
          "2021-05-14",
          "2021-05-15",
          "2021-05-16",
          "2021-05-17",
          "2021-05-18",
          "2021-05-19",
          "2021-05-20",
          "2021-05-21",
          "2021-05-22",
          "2021-05-23",
          "2021-05-24",
          "2021-05-25",
          "2021-05-26",
          "2021-05-27",
          "2021-05-28",
          "2021-05-29",
          "2021-05-30",
          "2021-05-31",
          "2021-06-01",
          "2021-06-02",
          "2021-06-03",
          "2021-06-04",
          "2021-06-05",
          "2021-06-06",
          "2021-06-07",
          "2021-06-08",
          "2021-06-09",
          "2021-06-10",
          "2021-06-11",
          "2021-06-12",
          "2021-06-13",
          "2021-06-14",
          "2021-06-15",
          "2021-06-16",
          "2021-06-17",
          "2021-06-18",
          "2021-06-19",
          "2021-06-20",
          "2021-06-21",
          "2021-06-22",
          "2021-06-23",
          "2021-06-24",
          "2021-06-25",
          "2021-06-26",
          "2021-06-27",
          "2021-06-28",
          "2021-06-29",
          "2021-06-30",
          "2021-07-01",
          "2021-07-02",
          "2021-07-03",
          "2021-07-04",
          "2021-07-05",
          "2021-07-06",
          "2021-07-07",
          "2021-07-08",
          "2021-07-09",
          "2021-07-10",
          "2021-07-11",
          "2021-07-12",
          "2021-07-13",
          "2021-07-14",
          "2021-07-15",
          "2021-07-16",
          "2021-07-17",
          "2021-07-18",
          "2021-07-19",
          "2021-07-20"
         ],
         "xaxis": "x",
         "y": [
          1,
          1,
          2,
          2,
          5,
          5,
          5,
          6,
          6,
          8,
          8,
          8,
          11,
          11,
          11,
          12,
          12,
          12,
          12,
          12,
          13,
          13,
          14,
          14,
          14,
          14,
          14,
          14,
          14,
          14,
          16,
          16,
          16,
          16,
          25,
          32,
          55,
          74,
          107,
          184,
          237,
          403,
          519,
          594,
          782,
          1147,
          1586,
          2219,
          2978,
          3212,
          4679,
          6512,
          9169,
          13663,
          20030,
          26025,
          34898,
          46136,
          56755,
          68837,
          86693,
          105383,
          125013,
          143912,
          165987,
          192301,
          224587,
          256809,
          289116,
          321502,
          351397,
          382787,
          413566,
          444801,
          480743,
          515146,
          544229,
          571485,
          598424,
          627242,
          652650,
          682652,
          715718,
          743625,
          769687,
          799507,
          825433,
          854344,
          887956,
          920283,
          950663,
          977151,
          1000866,
          1025441,
          1051900,
          1081105,
          1116012,
          1143360,
          1167681,
          1191749,
          1216277,
          1240846,
          1268275,
          1295105,
          1320281,
          1339086,
          1358384,
          1381311,
          1401744,
          1428561,
          1453294,
          1477429,
          1495817,
          1518206,
          1539185,
          1561910,
          1587679,
          1611328,
          1632427,
          1652504,
          1671166,
          1690829,
          1709380,
          1731700,
          1756178,
          1779810,
          1798793,
          1816207,
          1837709,
          1857566,
          1879224,
          1904627,
          1925769,
          1943697,
          1961313,
          1979696,
          2000807,
          2023973,
          2048801,
          2074013,
          2092954,
          2112781,
          2136448,
          2163520,
          2192057,
          2223601,
          2255881,
          2281031,
          2313175,
          2350247,
          2386125,
          2426451,
          2472450,
          2513780,
          2554514,
          2595813,
          2642233,
          2694053,
          2750689,
          2802040,
          2847733,
          2898480,
          2941586,
          3002247,
          3062366,
          3124875,
          3192932,
          3252949,
          3311373,
          3370303,
          3438354,
          3506444,
          3582310,
          3654546,
          3717082,
          3777538,
          3839645,
          3904106,
          3974685,
          4043130,
          4116449,
          4181402,
          4236218,
          4293001,
          4359413,
          4431286,
          4498752,
          4567464,
          4623665,
          4669233,
          4714734,
          4773508,
          4827974,
          4887323,
          4946626,
          5000760,
          5046529,
          5094135,
          5142138,
          5198178,
          5249494,
          5314830,
          5361781,
          5400993,
          5437645,
          5482678,
          5529998,
          5574039,
          5622882,
          5665946,
          5700193,
          5736675,
          5777029,
          5822201,
          5867594,
          5914426,
          5957180,
          5991584,
          6026946,
          6068792,
          6109810,
          6154061,
          6204443,
          6247601,
          6278819,
          6302432,
          6329658,
          6363707,
          6399763,
          6447532,
          6488633,
          6523005,
          6557428,
          6596920,
          6635950,
          6681080,
          6730362,
          6772564,
          6811011,
          6862889,
          6902755,
          6941824,
          6988927,
          7037222,
          7081895,
          7119423,
          7152717,
          7196055,
          7235498,
          7281148,
          7336098,
          7384675,
          7420413,
          7459789,
          7505078,
          7556134,
          7614733,
          7671117,
          7726070,
          7772051,
          7813825,
          7866056,
          7925834,
          7990714,
          8059861,
          8116620,
          8165987,
          8233704,
          8295660,
          8358961,
          8435271,
          8517204,
          8599971,
          8662175,
          8729485,
          8806323,
          8885749,
          8976768,
          9076032,
          9165786,
          9270686,
          9355897,
          9483095,
          9587636,
          9717003,
          9845036,
          9972546,
          10087716,
          10208150,
          10348654,
          10495404,
          10660154,
          10840552,
          11008478,
          11144834,
          11307458,
          11471416,
          11644667,
          11836177,
          12034510,
          12213946,
          12360893,
          12534982,
          12710526,
          12893929,
          13006455,
          13214388,
          13370049,
          13510377,
          13670698,
          13859037,
          14061931,
          14285352,
          14517996,
          14733807,
          14915060,
          15109469,
          15333921,
          15556569,
          15787997,
          16028086,
          16245883,
          16433854,
          16628168,
          16837160,
          17083804,
          17323704,
          17575536,
          17767638,
          17955653,
          18154356,
          18352463,
          18582087,
          18776242,
          18874122,
          19100538,
          19256383,
          19430535,
          19630943,
          19864644,
          20100244,
          20254160,
          20554622,
          20763475,
          20947480,
          21182522,
          21438159,
          21716496,
          22011753,
          22272720,
          22486135,
          22700799,
          22927766,
          23158067,
          23393833,
          23636613,
          23838471,
          24016402,
          24160000,
          24336216,
          24519477,
          24713333,
          24904093,
          25074852,
          25206050,
          25357727,
          25505353,
          25659314,
          25828118,
          25994731,
          26137190,
          26249342,
          26384317,
          26499620,
          26621311,
          26745317,
          26879739,
          26983915,
          27073661,
          27164099,
          27259364,
          27354614,
          27460378,
          27560048,
          27647267,
          27712402,
          27766681,
          27829179,
          27899318,
          27969229,
          28048511,
          28120207,
          28177359,
          28233518,
          28305788,
          28380537,
          28458041,
          28535390,
          28600016,
          28651438,
          28709536,
          28766634,
          28833825,
          28901885,
          28968304,
          29026558,
          29067631,
          29112548,
          29170215,
          29228110,
          29290581,
          29352094,
          29405125,
          29443403,
          29499944,
          29553952,
          29613232,
          29673607,
          29735258,
          29790777,
          29824599,
          29876035,
          29929723,
          30016661,
          30084207,
          30161584,
          30224426,
          30267649,
          30336922,
          30398351,
          30465116,
          30544235,
          30614122,
          30677383,
          30712516,
          30789920,
          30850594,
          30925615,
          31005509,
          31088219,
          31154906,
          31201415,
          31271490,
          31349456,
          31424859,
          31499167,
          31579238,
          31631770,
          31673891,
          31741996,
          31802945,
          31865800,
          31933078,
          31995489,
          32048984,
          32081137,
          32128705,
          32179541,
          32234691,
          32292942,
          32350861,
          32396252,
          32425655,
          32476146,
          32516869,
          32561573,
          32609130,
          32657260,
          32690935,
          32712362,
          32749160,
          32782822,
          32818648,
          32856724,
          32898984,
          32927841,
          32944716,
          32973337,
          33001126,
          33030427,
          33060633,
          33088579,
          33108377,
          33121245,
          33147060,
          33169799,
          33193775,
          33221223,
          33243082,
          33255083,
          33261817,
          33267592,
          33290532,
          33307449,
          33326529,
          33343379,
          33357285,
          33362680,
          33378176,
          33391189,
          33409836,
          33424381,
          33449080,
          33457308,
          33462085,
          33474815,
          33486120,
          33498545,
          33508938,
          33529529,
          33538049,
          33541941,
          33554275,
          33565215,
          33577651,
          33590481,
          33614196,
          33621499,
          33625419,
          33640502,
          33651852,
          33664970,
          33679433,
          33709325,
          33714064,
          33717761,
          33723289,
          33747513,
          33770444,
          33790505,
          33838746,
          33847784,
          33853948,
          33888961,
          33915385,
          33947230,
          33975642,
          34054952,
          34067912,
          34079960,
          34132071,
          34174774
         ],
         "yaxis": "y"
        }
       ],
       "layout": {
        "legend": {
         "tracegroupgap": 0
        },
        "template": {
         "data": {
          "bar": [
           {
            "error_x": {
             "color": "#f2f5fa"
            },
            "error_y": {
             "color": "#f2f5fa"
            },
            "marker": {
             "line": {
              "color": "rgb(17,17,17)",
              "width": 0.5
             },
             "pattern": {
              "fillmode": "overlay",
              "size": 10,
              "solidity": 0.2
             }
            },
            "type": "bar"
           }
          ],
          "barpolar": [
           {
            "marker": {
             "line": {
              "color": "rgb(17,17,17)",
              "width": 0.5
             },
             "pattern": {
              "fillmode": "overlay",
              "size": 10,
              "solidity": 0.2
             }
            },
            "type": "barpolar"
           }
          ],
          "carpet": [
           {
            "aaxis": {
             "endlinecolor": "#A2B1C6",
             "gridcolor": "#506784",
             "linecolor": "#506784",
             "minorgridcolor": "#506784",
             "startlinecolor": "#A2B1C6"
            },
            "baxis": {
             "endlinecolor": "#A2B1C6",
             "gridcolor": "#506784",
             "linecolor": "#506784",
             "minorgridcolor": "#506784",
             "startlinecolor": "#A2B1C6"
            },
            "type": "carpet"
           }
          ],
          "choropleth": [
           {
            "colorbar": {
             "outlinewidth": 0,
             "ticks": ""
            },
            "type": "choropleth"
           }
          ],
          "contour": [
           {
            "colorbar": {
             "outlinewidth": 0,
             "ticks": ""
            },
            "colorscale": [
             [
              0,
              "#0d0887"
             ],
             [
              0.1111111111111111,
              "#46039f"
             ],
             [
              0.2222222222222222,
              "#7201a8"
             ],
             [
              0.3333333333333333,
              "#9c179e"
             ],
             [
              0.4444444444444444,
              "#bd3786"
             ],
             [
              0.5555555555555556,
              "#d8576b"
             ],
             [
              0.6666666666666666,
              "#ed7953"
             ],
             [
              0.7777777777777778,
              "#fb9f3a"
             ],
             [
              0.8888888888888888,
              "#fdca26"
             ],
             [
              1,
              "#f0f921"
             ]
            ],
            "type": "contour"
           }
          ],
          "contourcarpet": [
           {
            "colorbar": {
             "outlinewidth": 0,
             "ticks": ""
            },
            "type": "contourcarpet"
           }
          ],
          "heatmap": [
           {
            "colorbar": {
             "outlinewidth": 0,
             "ticks": ""
            },
            "colorscale": [
             [
              0,
              "#0d0887"
             ],
             [
              0.1111111111111111,
              "#46039f"
             ],
             [
              0.2222222222222222,
              "#7201a8"
             ],
             [
              0.3333333333333333,
              "#9c179e"
             ],
             [
              0.4444444444444444,
              "#bd3786"
             ],
             [
              0.5555555555555556,
              "#d8576b"
             ],
             [
              0.6666666666666666,
              "#ed7953"
             ],
             [
              0.7777777777777778,
              "#fb9f3a"
             ],
             [
              0.8888888888888888,
              "#fdca26"
             ],
             [
              1,
              "#f0f921"
             ]
            ],
            "type": "heatmap"
           }
          ],
          "heatmapgl": [
           {
            "colorbar": {
             "outlinewidth": 0,
             "ticks": ""
            },
            "colorscale": [
             [
              0,
              "#0d0887"
             ],
             [
              0.1111111111111111,
              "#46039f"
             ],
             [
              0.2222222222222222,
              "#7201a8"
             ],
             [
              0.3333333333333333,
              "#9c179e"
             ],
             [
              0.4444444444444444,
              "#bd3786"
             ],
             [
              0.5555555555555556,
              "#d8576b"
             ],
             [
              0.6666666666666666,
              "#ed7953"
             ],
             [
              0.7777777777777778,
              "#fb9f3a"
             ],
             [
              0.8888888888888888,
              "#fdca26"
             ],
             [
              1,
              "#f0f921"
             ]
            ],
            "type": "heatmapgl"
           }
          ],
          "histogram": [
           {
            "marker": {
             "pattern": {
              "fillmode": "overlay",
              "size": 10,
              "solidity": 0.2
             }
            },
            "type": "histogram"
           }
          ],
          "histogram2d": [
           {
            "colorbar": {
             "outlinewidth": 0,
             "ticks": ""
            },
            "colorscale": [
             [
              0,
              "#0d0887"
             ],
             [
              0.1111111111111111,
              "#46039f"
             ],
             [
              0.2222222222222222,
              "#7201a8"
             ],
             [
              0.3333333333333333,
              "#9c179e"
             ],
             [
              0.4444444444444444,
              "#bd3786"
             ],
             [
              0.5555555555555556,
              "#d8576b"
             ],
             [
              0.6666666666666666,
              "#ed7953"
             ],
             [
              0.7777777777777778,
              "#fb9f3a"
             ],
             [
              0.8888888888888888,
              "#fdca26"
             ],
             [
              1,
              "#f0f921"
             ]
            ],
            "type": "histogram2d"
           }
          ],
          "histogram2dcontour": [
           {
            "colorbar": {
             "outlinewidth": 0,
             "ticks": ""
            },
            "colorscale": [
             [
              0,
              "#0d0887"
             ],
             [
              0.1111111111111111,
              "#46039f"
             ],
             [
              0.2222222222222222,
              "#7201a8"
             ],
             [
              0.3333333333333333,
              "#9c179e"
             ],
             [
              0.4444444444444444,
              "#bd3786"
             ],
             [
              0.5555555555555556,
              "#d8576b"
             ],
             [
              0.6666666666666666,
              "#ed7953"
             ],
             [
              0.7777777777777778,
              "#fb9f3a"
             ],
             [
              0.8888888888888888,
              "#fdca26"
             ],
             [
              1,
              "#f0f921"
             ]
            ],
            "type": "histogram2dcontour"
           }
          ],
          "mesh3d": [
           {
            "colorbar": {
             "outlinewidth": 0,
             "ticks": ""
            },
            "type": "mesh3d"
           }
          ],
          "parcoords": [
           {
            "line": {
             "colorbar": {
              "outlinewidth": 0,
              "ticks": ""
             }
            },
            "type": "parcoords"
           }
          ],
          "pie": [
           {
            "automargin": true,
            "type": "pie"
           }
          ],
          "scatter": [
           {
            "marker": {
             "line": {
              "color": "#283442"
             }
            },
            "type": "scatter"
           }
          ],
          "scatter3d": [
           {
            "line": {
             "colorbar": {
              "outlinewidth": 0,
              "ticks": ""
             }
            },
            "marker": {
             "colorbar": {
              "outlinewidth": 0,
              "ticks": ""
             }
            },
            "type": "scatter3d"
           }
          ],
          "scattercarpet": [
           {
            "marker": {
             "colorbar": {
              "outlinewidth": 0,
              "ticks": ""
             }
            },
            "type": "scattercarpet"
           }
          ],
          "scattergeo": [
           {
            "marker": {
             "colorbar": {
              "outlinewidth": 0,
              "ticks": ""
             }
            },
            "type": "scattergeo"
           }
          ],
          "scattergl": [
           {
            "marker": {
             "line": {
              "color": "#283442"
             }
            },
            "type": "scattergl"
           }
          ],
          "scattermapbox": [
           {
            "marker": {
             "colorbar": {
              "outlinewidth": 0,
              "ticks": ""
             }
            },
            "type": "scattermapbox"
           }
          ],
          "scatterpolar": [
           {
            "marker": {
             "colorbar": {
              "outlinewidth": 0,
              "ticks": ""
             }
            },
            "type": "scatterpolar"
           }
          ],
          "scatterpolargl": [
           {
            "marker": {
             "colorbar": {
              "outlinewidth": 0,
              "ticks": ""
             }
            },
            "type": "scatterpolargl"
           }
          ],
          "scatterternary": [
           {
            "marker": {
             "colorbar": {
              "outlinewidth": 0,
              "ticks": ""
             }
            },
            "type": "scatterternary"
           }
          ],
          "surface": [
           {
            "colorbar": {
             "outlinewidth": 0,
             "ticks": ""
            },
            "colorscale": [
             [
              0,
              "#0d0887"
             ],
             [
              0.1111111111111111,
              "#46039f"
             ],
             [
              0.2222222222222222,
              "#7201a8"
             ],
             [
              0.3333333333333333,
              "#9c179e"
             ],
             [
              0.4444444444444444,
              "#bd3786"
             ],
             [
              0.5555555555555556,
              "#d8576b"
             ],
             [
              0.6666666666666666,
              "#ed7953"
             ],
             [
              0.7777777777777778,
              "#fb9f3a"
             ],
             [
              0.8888888888888888,
              "#fdca26"
             ],
             [
              1,
              "#f0f921"
             ]
            ],
            "type": "surface"
           }
          ],
          "table": [
           {
            "cells": {
             "fill": {
              "color": "#506784"
             },
             "line": {
              "color": "rgb(17,17,17)"
             }
            },
            "header": {
             "fill": {
              "color": "#2a3f5f"
             },
             "line": {
              "color": "rgb(17,17,17)"
             }
            },
            "type": "table"
           }
          ]
         },
         "layout": {
          "annotationdefaults": {
           "arrowcolor": "#f2f5fa",
           "arrowhead": 0,
           "arrowwidth": 1
          },
          "autotypenumbers": "strict",
          "coloraxis": {
           "colorbar": {
            "outlinewidth": 0,
            "ticks": ""
           }
          },
          "colorscale": {
           "diverging": [
            [
             0,
             "#8e0152"
            ],
            [
             0.1,
             "#c51b7d"
            ],
            [
             0.2,
             "#de77ae"
            ],
            [
             0.3,
             "#f1b6da"
            ],
            [
             0.4,
             "#fde0ef"
            ],
            [
             0.5,
             "#f7f7f7"
            ],
            [
             0.6,
             "#e6f5d0"
            ],
            [
             0.7,
             "#b8e186"
            ],
            [
             0.8,
             "#7fbc41"
            ],
            [
             0.9,
             "#4d9221"
            ],
            [
             1,
             "#276419"
            ]
           ],
           "sequential": [
            [
             0,
             "#0d0887"
            ],
            [
             0.1111111111111111,
             "#46039f"
            ],
            [
             0.2222222222222222,
             "#7201a8"
            ],
            [
             0.3333333333333333,
             "#9c179e"
            ],
            [
             0.4444444444444444,
             "#bd3786"
            ],
            [
             0.5555555555555556,
             "#d8576b"
            ],
            [
             0.6666666666666666,
             "#ed7953"
            ],
            [
             0.7777777777777778,
             "#fb9f3a"
            ],
            [
             0.8888888888888888,
             "#fdca26"
            ],
            [
             1,
             "#f0f921"
            ]
           ],
           "sequentialminus": [
            [
             0,
             "#0d0887"
            ],
            [
             0.1111111111111111,
             "#46039f"
            ],
            [
             0.2222222222222222,
             "#7201a8"
            ],
            [
             0.3333333333333333,
             "#9c179e"
            ],
            [
             0.4444444444444444,
             "#bd3786"
            ],
            [
             0.5555555555555556,
             "#d8576b"
            ],
            [
             0.6666666666666666,
             "#ed7953"
            ],
            [
             0.7777777777777778,
             "#fb9f3a"
            ],
            [
             0.8888888888888888,
             "#fdca26"
            ],
            [
             1,
             "#f0f921"
            ]
           ]
          },
          "colorway": [
           "#636efa",
           "#EF553B",
           "#00cc96",
           "#ab63fa",
           "#FFA15A",
           "#19d3f3",
           "#FF6692",
           "#B6E880",
           "#FF97FF",
           "#FECB52"
          ],
          "font": {
           "color": "#f2f5fa"
          },
          "geo": {
           "bgcolor": "rgb(17,17,17)",
           "lakecolor": "rgb(17,17,17)",
           "landcolor": "rgb(17,17,17)",
           "showlakes": true,
           "showland": true,
           "subunitcolor": "#506784"
          },
          "hoverlabel": {
           "align": "left"
          },
          "hovermode": "closest",
          "mapbox": {
           "style": "dark"
          },
          "paper_bgcolor": "rgb(17,17,17)",
          "plot_bgcolor": "rgb(17,17,17)",
          "polar": {
           "angularaxis": {
            "gridcolor": "#506784",
            "linecolor": "#506784",
            "ticks": ""
           },
           "bgcolor": "rgb(17,17,17)",
           "radialaxis": {
            "gridcolor": "#506784",
            "linecolor": "#506784",
            "ticks": ""
           }
          },
          "scene": {
           "xaxis": {
            "backgroundcolor": "rgb(17,17,17)",
            "gridcolor": "#506784",
            "gridwidth": 2,
            "linecolor": "#506784",
            "showbackground": true,
            "ticks": "",
            "zerolinecolor": "#C8D4E3"
           },
           "yaxis": {
            "backgroundcolor": "rgb(17,17,17)",
            "gridcolor": "#506784",
            "gridwidth": 2,
            "linecolor": "#506784",
            "showbackground": true,
            "ticks": "",
            "zerolinecolor": "#C8D4E3"
           },
           "zaxis": {
            "backgroundcolor": "rgb(17,17,17)",
            "gridcolor": "#506784",
            "gridwidth": 2,
            "linecolor": "#506784",
            "showbackground": true,
            "ticks": "",
            "zerolinecolor": "#C8D4E3"
           }
          },
          "shapedefaults": {
           "line": {
            "color": "#f2f5fa"
           }
          },
          "sliderdefaults": {
           "bgcolor": "#C8D4E3",
           "bordercolor": "rgb(17,17,17)",
           "borderwidth": 1,
           "tickwidth": 0
          },
          "ternary": {
           "aaxis": {
            "gridcolor": "#506784",
            "linecolor": "#506784",
            "ticks": ""
           },
           "baxis": {
            "gridcolor": "#506784",
            "linecolor": "#506784",
            "ticks": ""
           },
           "bgcolor": "rgb(17,17,17)",
           "caxis": {
            "gridcolor": "#506784",
            "linecolor": "#506784",
            "ticks": ""
           }
          },
          "title": {
           "x": 0.05
          },
          "updatemenudefaults": {
           "bgcolor": "#506784",
           "borderwidth": 0
          },
          "xaxis": {
           "automargin": true,
           "gridcolor": "#283442",
           "linecolor": "#506784",
           "ticks": "",
           "title": {
            "standoff": 15
           },
           "zerolinecolor": "#283442",
           "zerolinewidth": 2
          },
          "yaxis": {
           "automargin": true,
           "gridcolor": "#283442",
           "linecolor": "#506784",
           "ticks": "",
           "title": {
            "standoff": 15
           },
           "zerolinecolor": "#283442",
           "zerolinewidth": 2
          }
         }
        },
        "title": {
         "text": "Confirmed Cases Over Time in the USA"
        },
        "xaxis": {
         "anchor": "y",
         "domain": [
          0,
          1
         ],
         "title": {
          "text": "Day"
         }
        },
        "yaxis": {
         "anchor": "x",
         "domain": [
          0,
          1
         ],
         "title": {
          "text": "Cases"
         }
        }
       }
      }
     },
     "metadata": {}
    }
   ],
   "source": [
    "fig = px.line(can_pivot, x = \"Day\", y = \"Cases\",\n",
    "             template = \"plotly_dark\", title = \"Confirmed Cases Over Time in Canada\",\n",
    "              color_discrete_sequence = ['Red'])\n",
    "fig.show()\n",
    "\n",
    "fig = px.line(usa_pivot, x = \"Day\", y = \"Cases\",\n",
    "             template = \"plotly_dark\", title = \"Confirmed Cases Over Time in the USA\",\n",
    "              color_discrete_sequence = ['Blue'])\n",
    "fig.show()"
   ]
  },
  {
   "cell_type": "code",
   "execution_count": 116,
   "metadata": {},
   "outputs": [
    {
     "output_type": "display_data",
     "data": {
      "application/vnd.plotly.v1+json": {
       "config": {
        "plotlyServerURL": "https://plot.ly"
       },
       "data": [
        {
         "hovertemplate": "Country=United States<br>Day=%{x}<br>Cases=%{y}<extra></extra>",
         "legendgroup": "United States",
         "line": {
          "color": "#636efa",
          "dash": "solid"
         },
         "mode": "lines",
         "name": "United States",
         "showlegend": true,
         "type": "scattergl",
         "x": [
          "2020-01-22",
          "2020-01-23",
          "2020-01-24",
          "2020-01-25",
          "2020-01-26",
          "2020-01-27",
          "2020-01-28",
          "2020-01-29",
          "2020-01-30",
          "2020-01-31",
          "2020-02-01",
          "2020-02-02",
          "2020-02-03",
          "2020-02-04",
          "2020-02-05",
          "2020-02-06",
          "2020-02-07",
          "2020-02-08",
          "2020-02-09",
          "2020-02-10",
          "2020-02-11",
          "2020-02-12",
          "2020-02-13",
          "2020-02-14",
          "2020-02-15",
          "2020-02-16",
          "2020-02-17",
          "2020-02-18",
          "2020-02-19",
          "2020-02-20",
          "2020-02-21",
          "2020-02-22",
          "2020-02-23",
          "2020-02-24",
          "2020-02-29",
          "2020-03-01",
          "2020-03-02",
          "2020-03-03",
          "2020-03-04",
          "2020-03-05",
          "2020-03-06",
          "2020-03-07",
          "2020-03-08",
          "2020-03-09",
          "2020-03-10",
          "2020-03-11",
          "2020-03-12",
          "2020-03-13",
          "2020-03-14",
          "2020-03-15",
          "2020-03-16",
          "2020-03-17",
          "2020-03-18",
          "2020-03-19",
          "2020-03-20",
          "2020-03-21",
          "2020-03-22",
          "2020-03-23",
          "2020-03-24",
          "2020-03-25",
          "2020-03-26",
          "2020-03-27",
          "2020-03-28",
          "2020-03-29",
          "2020-03-30",
          "2020-03-31",
          "2020-04-01",
          "2020-04-02",
          "2020-04-03",
          "2020-04-04",
          "2020-04-05",
          "2020-04-06",
          "2020-04-07",
          "2020-04-08",
          "2020-04-09",
          "2020-04-10",
          "2020-04-11",
          "2020-04-12",
          "2020-04-13",
          "2020-04-14",
          "2020-04-15",
          "2020-04-16",
          "2020-04-17",
          "2020-04-18",
          "2020-04-19",
          "2020-04-20",
          "2020-04-21",
          "2020-04-22",
          "2020-04-23",
          "2020-04-24",
          "2020-04-25",
          "2020-04-26",
          "2020-04-27",
          "2020-04-28",
          "2020-04-29",
          "2020-04-30",
          "2020-05-01",
          "2020-05-02",
          "2020-05-03",
          "2020-05-04",
          "2020-05-05",
          "2020-05-06",
          "2020-05-07",
          "2020-05-08",
          "2020-05-09",
          "2020-05-10",
          "2020-05-11",
          "2020-05-12",
          "2020-05-13",
          "2020-05-14",
          "2020-05-15",
          "2020-05-16",
          "2020-05-17",
          "2020-05-18",
          "2020-05-19",
          "2020-05-20",
          "2020-05-21",
          "2020-05-22",
          "2020-05-23",
          "2020-05-24",
          "2020-05-25",
          "2020-05-26",
          "2020-05-27",
          "2020-05-28",
          "2020-05-29",
          "2020-05-30",
          "2020-05-31",
          "2020-06-01",
          "2020-06-02",
          "2020-06-03",
          "2020-06-04",
          "2020-06-05",
          "2020-06-06",
          "2020-06-07",
          "2020-06-08",
          "2020-06-09",
          "2020-06-10",
          "2020-06-11",
          "2020-06-12",
          "2020-06-13",
          "2020-06-14",
          "2020-06-15",
          "2020-06-16",
          "2020-06-17",
          "2020-06-18",
          "2020-06-19",
          "2020-06-20",
          "2020-06-21",
          "2020-06-22",
          "2020-06-23",
          "2020-06-24",
          "2020-06-25",
          "2020-06-26",
          "2020-06-27",
          "2020-06-28",
          "2020-06-29",
          "2020-06-30",
          "2020-07-01",
          "2020-07-02",
          "2020-07-03",
          "2020-07-04",
          "2020-07-05",
          "2020-07-06",
          "2020-07-07",
          "2020-07-08",
          "2020-07-09",
          "2020-07-10",
          "2020-07-11",
          "2020-07-12",
          "2020-07-13",
          "2020-07-14",
          "2020-07-15",
          "2020-07-16",
          "2020-07-17",
          "2020-07-18",
          "2020-07-19",
          "2020-07-20",
          "2020-07-21",
          "2020-07-22",
          "2020-07-23",
          "2020-07-24",
          "2020-07-25",
          "2020-07-26",
          "2020-07-27",
          "2020-07-28",
          "2020-07-29",
          "2020-07-30",
          "2020-07-31",
          "2020-08-01",
          "2020-08-02",
          "2020-08-03",
          "2020-08-04",
          "2020-08-05",
          "2020-08-06",
          "2020-08-07",
          "2020-08-08",
          "2020-08-09",
          "2020-08-10",
          "2020-08-11",
          "2020-08-12",
          "2020-08-13",
          "2020-08-14",
          "2020-08-15",
          "2020-08-16",
          "2020-08-17",
          "2020-08-18",
          "2020-08-19",
          "2020-08-20",
          "2020-08-21",
          "2020-08-22",
          "2020-08-23",
          "2020-08-24",
          "2020-08-25",
          "2020-08-26",
          "2020-08-27",
          "2020-08-28",
          "2020-08-29",
          "2020-08-30",
          "2020-08-31",
          "2020-09-01",
          "2020-09-02",
          "2020-09-03",
          "2020-09-04",
          "2020-09-05",
          "2020-09-06",
          "2020-09-07",
          "2020-09-08",
          "2020-09-09",
          "2020-09-10",
          "2020-09-11",
          "2020-09-12",
          "2020-09-13",
          "2020-09-14",
          "2020-09-15",
          "2020-09-16",
          "2020-09-17",
          "2020-09-18",
          "2020-09-19",
          "2020-09-20",
          "2020-09-21",
          "2020-09-22",
          "2020-09-23",
          "2020-09-24",
          "2020-09-25",
          "2020-09-26",
          "2020-09-27",
          "2020-09-28",
          "2020-09-29",
          "2020-09-30",
          "2020-10-01",
          "2020-10-02",
          "2020-10-03",
          "2020-10-04",
          "2020-10-05",
          "2020-10-06",
          "2020-10-07",
          "2020-10-08",
          "2020-10-09",
          "2020-10-10",
          "2020-10-11",
          "2020-10-12",
          "2020-10-13",
          "2020-10-14",
          "2020-10-15",
          "2020-10-16",
          "2020-10-17",
          "2020-10-18",
          "2020-10-19",
          "2020-10-20",
          "2020-10-21",
          "2020-10-22",
          "2020-10-23",
          "2020-10-24",
          "2020-10-25",
          "2020-10-26",
          "2020-10-27",
          "2020-10-28",
          "2020-10-29",
          "2020-10-30",
          "2020-10-31",
          "2020-11-01",
          "2020-11-02",
          "2020-11-03",
          "2020-11-04",
          "2020-11-05",
          "2020-11-06",
          "2020-11-07",
          "2020-11-08",
          "2020-11-09",
          "2020-11-10",
          "2020-11-11",
          "2020-11-12",
          "2020-11-13",
          "2020-11-14",
          "2020-11-15",
          "2020-11-16",
          "2020-11-17",
          "2020-11-18",
          "2020-11-19",
          "2020-11-20",
          "2020-11-21",
          "2020-11-22",
          "2020-11-23",
          "2020-11-24",
          "2020-11-25",
          "2020-11-26",
          "2020-11-27",
          "2020-11-28",
          "2020-11-29",
          "2020-11-30",
          "2020-12-01",
          "2020-12-02",
          "2020-12-03",
          "2020-12-04",
          "2020-12-05",
          "2020-12-06",
          "2020-12-07",
          "2020-12-08",
          "2020-12-09",
          "2020-12-10",
          "2020-12-11",
          "2020-12-12",
          "2020-12-13",
          "2020-12-14",
          "2020-12-15",
          "2020-12-16",
          "2020-12-17",
          "2020-12-18",
          "2020-12-19",
          "2020-12-20",
          "2020-12-21",
          "2020-12-22",
          "2020-12-23",
          "2020-12-24",
          "2020-12-25",
          "2020-12-26",
          "2020-12-27",
          "2020-12-28",
          "2020-12-29",
          "2020-12-30",
          "2020-12-31",
          "2021-01-01",
          "2021-01-02",
          "2021-01-03",
          "2021-01-04",
          "2021-01-05",
          "2021-01-06",
          "2021-01-07",
          "2021-01-08",
          "2021-01-09",
          "2021-01-10",
          "2021-01-11",
          "2021-01-12",
          "2021-01-13",
          "2021-01-14",
          "2021-01-15",
          "2021-01-16",
          "2021-01-17",
          "2021-01-18",
          "2021-01-19",
          "2021-01-20",
          "2021-01-21",
          "2021-01-22",
          "2021-01-23",
          "2021-01-24",
          "2021-01-25",
          "2021-01-26",
          "2021-01-27",
          "2021-01-28",
          "2021-01-29",
          "2021-01-30",
          "2021-01-31",
          "2021-02-01",
          "2021-02-02",
          "2021-02-03",
          "2021-02-04",
          "2021-02-05",
          "2021-02-06",
          "2021-02-07",
          "2021-02-08",
          "2021-02-09",
          "2021-02-10",
          "2021-02-11",
          "2021-02-12",
          "2021-02-13",
          "2021-02-14",
          "2021-02-15",
          "2021-02-16",
          "2021-02-17",
          "2021-02-18",
          "2021-02-19",
          "2021-02-20",
          "2021-02-21",
          "2021-02-22",
          "2021-02-23",
          "2021-02-24",
          "2021-02-25",
          "2021-02-26",
          "2021-02-27",
          "2021-02-28",
          "2021-03-01",
          "2021-03-02",
          "2021-03-03",
          "2021-03-04",
          "2021-03-05",
          "2021-03-06",
          "2021-03-07",
          "2021-03-08",
          "2021-03-09",
          "2021-03-10",
          "2021-03-11",
          "2021-03-12",
          "2021-03-13",
          "2021-03-14",
          "2021-03-15",
          "2021-03-16",
          "2021-03-17",
          "2021-03-18",
          "2021-03-19",
          "2021-03-20",
          "2021-03-21",
          "2021-03-22",
          "2021-03-23",
          "2021-03-24",
          "2021-03-25",
          "2021-03-26",
          "2021-03-27",
          "2021-03-28",
          "2021-03-29",
          "2021-03-30",
          "2021-03-31",
          "2021-04-01",
          "2021-04-02",
          "2021-04-03",
          "2021-04-04",
          "2021-04-05",
          "2021-04-06",
          "2021-04-07",
          "2021-04-08",
          "2021-04-09",
          "2021-04-10",
          "2021-04-11",
          "2021-04-12",
          "2021-04-13",
          "2021-04-14",
          "2021-04-15",
          "2021-04-16",
          "2021-04-17",
          "2021-04-18",
          "2021-04-19",
          "2021-04-20",
          "2021-04-21",
          "2021-04-22",
          "2021-04-23",
          "2021-04-24",
          "2021-04-25",
          "2021-04-26",
          "2021-04-27",
          "2021-04-28",
          "2021-04-29",
          "2021-04-30",
          "2021-05-01",
          "2021-05-02",
          "2021-05-03",
          "2021-05-04",
          "2021-05-05",
          "2021-05-06",
          "2021-05-07",
          "2021-05-08",
          "2021-05-09",
          "2021-05-10",
          "2021-05-11",
          "2021-05-12",
          "2021-05-13",
          "2021-05-14",
          "2021-05-15",
          "2021-05-16",
          "2021-05-17",
          "2021-05-18",
          "2021-05-19",
          "2021-05-20",
          "2021-05-21",
          "2021-05-22",
          "2021-05-23",
          "2021-05-24",
          "2021-05-25",
          "2021-05-26",
          "2021-05-27",
          "2021-05-28",
          "2021-05-29",
          "2021-05-30",
          "2021-05-31",
          "2021-06-01",
          "2021-06-02",
          "2021-06-03",
          "2021-06-04",
          "2021-06-05",
          "2021-06-06",
          "2021-06-07",
          "2021-06-08",
          "2021-06-09",
          "2021-06-10",
          "2021-06-11",
          "2021-06-12",
          "2021-06-13",
          "2021-06-14",
          "2021-06-15",
          "2021-06-16",
          "2021-06-17",
          "2021-06-18",
          "2021-06-19",
          "2021-06-20",
          "2021-06-21",
          "2021-06-22",
          "2021-06-23",
          "2021-06-24",
          "2021-06-25",
          "2021-06-26",
          "2021-06-27",
          "2021-06-28",
          "2021-06-29",
          "2021-06-30",
          "2021-07-01",
          "2021-07-02",
          "2021-07-03",
          "2021-07-04",
          "2021-07-05",
          "2021-07-06",
          "2021-07-07",
          "2021-07-08",
          "2021-07-09",
          "2021-07-10",
          "2021-07-11",
          "2021-07-12",
          "2021-07-13",
          "2021-07-14",
          "2021-07-15",
          "2021-07-16",
          "2021-07-17",
          "2021-07-18",
          "2021-07-19",
          "2021-07-20"
         ],
         "xaxis": "x",
         "y": [
          1,
          1,
          2,
          2,
          5,
          5,
          5,
          6,
          6,
          8,
          8,
          8,
          11,
          11,
          11,
          12,
          12,
          12,
          12,
          12,
          13,
          13,
          14,
          14,
          14,
          14,
          14,
          14,
          14,
          14,
          16,
          16,
          16,
          16,
          25,
          32,
          55,
          74,
          107,
          184,
          237,
          403,
          519,
          594,
          782,
          1147,
          1586,
          2219,
          2978,
          3212,
          4679,
          6512,
          9169,
          13663,
          20030,
          26025,
          34898,
          46136,
          56755,
          68837,
          86693,
          105383,
          125013,
          143912,
          165987,
          192301,
          224587,
          256809,
          289116,
          321502,
          351397,
          382787,
          413566,
          444801,
          480743,
          515146,
          544229,
          571485,
          598424,
          627242,
          652650,
          682652,
          715718,
          743625,
          769687,
          799507,
          825433,
          854344,
          887956,
          920283,
          950663,
          977151,
          1000866,
          1025441,
          1051900,
          1081105,
          1116012,
          1143360,
          1167681,
          1191749,
          1216277,
          1240846,
          1268275,
          1295105,
          1320281,
          1339086,
          1358384,
          1381311,
          1401744,
          1428561,
          1453294,
          1477429,
          1495817,
          1518206,
          1539185,
          1561910,
          1587679,
          1611328,
          1632427,
          1652504,
          1671166,
          1690829,
          1709380,
          1731700,
          1756178,
          1779810,
          1798793,
          1816207,
          1837709,
          1857566,
          1879224,
          1904627,
          1925769,
          1943697,
          1961313,
          1979696,
          2000807,
          2023973,
          2048801,
          2074013,
          2092954,
          2112781,
          2136448,
          2163520,
          2192057,
          2223601,
          2255881,
          2281031,
          2313175,
          2350247,
          2386125,
          2426451,
          2472450,
          2513780,
          2554514,
          2595813,
          2642233,
          2694053,
          2750689,
          2802040,
          2847733,
          2898480,
          2941586,
          3002247,
          3062366,
          3124875,
          3192932,
          3252949,
          3311373,
          3370303,
          3438354,
          3506444,
          3582310,
          3654546,
          3717082,
          3777538,
          3839645,
          3904106,
          3974685,
          4043130,
          4116449,
          4181402,
          4236218,
          4293001,
          4359413,
          4431286,
          4498752,
          4567464,
          4623665,
          4669233,
          4714734,
          4773508,
          4827974,
          4887323,
          4946626,
          5000760,
          5046529,
          5094135,
          5142138,
          5198178,
          5249494,
          5314830,
          5361781,
          5400993,
          5437645,
          5482678,
          5529998,
          5574039,
          5622882,
          5665946,
          5700193,
          5736675,
          5777029,
          5822201,
          5867594,
          5914426,
          5957180,
          5991584,
          6026946,
          6068792,
          6109810,
          6154061,
          6204443,
          6247601,
          6278819,
          6302432,
          6329658,
          6363707,
          6399763,
          6447532,
          6488633,
          6523005,
          6557428,
          6596920,
          6635950,
          6681080,
          6730362,
          6772564,
          6811011,
          6862889,
          6902755,
          6941824,
          6988927,
          7037222,
          7081895,
          7119423,
          7152717,
          7196055,
          7235498,
          7281148,
          7336098,
          7384675,
          7420413,
          7459789,
          7505078,
          7556134,
          7614733,
          7671117,
          7726070,
          7772051,
          7813825,
          7866056,
          7925834,
          7990714,
          8059861,
          8116620,
          8165987,
          8233704,
          8295660,
          8358961,
          8435271,
          8517204,
          8599971,
          8662175,
          8729485,
          8806323,
          8885749,
          8976768,
          9076032,
          9165786,
          9270686,
          9355897,
          9483095,
          9587636,
          9717003,
          9845036,
          9972546,
          10087716,
          10208150,
          10348654,
          10495404,
          10660154,
          10840552,
          11008478,
          11144834,
          11307458,
          11471416,
          11644667,
          11836177,
          12034510,
          12213946,
          12360893,
          12534982,
          12710526,
          12893929,
          13006455,
          13214388,
          13370049,
          13510377,
          13670698,
          13859037,
          14061931,
          14285352,
          14517996,
          14733807,
          14915060,
          15109469,
          15333921,
          15556569,
          15787997,
          16028086,
          16245883,
          16433854,
          16628168,
          16837160,
          17083804,
          17323704,
          17575536,
          17767638,
          17955653,
          18154356,
          18352463,
          18582087,
          18776242,
          18874122,
          19100538,
          19256383,
          19430535,
          19630943,
          19864644,
          20100244,
          20254160,
          20554622,
          20763475,
          20947480,
          21182522,
          21438159,
          21716496,
          22011753,
          22272720,
          22486135,
          22700799,
          22927766,
          23158067,
          23393833,
          23636613,
          23838471,
          24016402,
          24160000,
          24336216,
          24519477,
          24713333,
          24904093,
          25074852,
          25206050,
          25357727,
          25505353,
          25659314,
          25828118,
          25994731,
          26137190,
          26249342,
          26384317,
          26499620,
          26621311,
          26745317,
          26879739,
          26983915,
          27073661,
          27164099,
          27259364,
          27354614,
          27460378,
          27560048,
          27647267,
          27712402,
          27766681,
          27829179,
          27899318,
          27969229,
          28048511,
          28120207,
          28177359,
          28233518,
          28305788,
          28380537,
          28458041,
          28535390,
          28600016,
          28651438,
          28709536,
          28766634,
          28833825,
          28901885,
          28968304,
          29026558,
          29067631,
          29112548,
          29170215,
          29228110,
          29290581,
          29352094,
          29405125,
          29443403,
          29499944,
          29553952,
          29613232,
          29673607,
          29735258,
          29790777,
          29824599,
          29876035,
          29929723,
          30016661,
          30084207,
          30161584,
          30224426,
          30267649,
          30336922,
          30398351,
          30465116,
          30544235,
          30614122,
          30677383,
          30712516,
          30789920,
          30850594,
          30925615,
          31005509,
          31088219,
          31154906,
          31201415,
          31271490,
          31349456,
          31424859,
          31499167,
          31579238,
          31631770,
          31673891,
          31741996,
          31802945,
          31865800,
          31933078,
          31995489,
          32048984,
          32081137,
          32128705,
          32179541,
          32234691,
          32292942,
          32350861,
          32396252,
          32425655,
          32476146,
          32516869,
          32561573,
          32609130,
          32657260,
          32690935,
          32712362,
          32749160,
          32782822,
          32818648,
          32856724,
          32898984,
          32927841,
          32944716,
          32973337,
          33001126,
          33030427,
          33060633,
          33088579,
          33108377,
          33121245,
          33147060,
          33169799,
          33193775,
          33221223,
          33243082,
          33255083,
          33261817,
          33267592,
          33290532,
          33307449,
          33326529,
          33343379,
          33357285,
          33362680,
          33378176,
          33391189,
          33409836,
          33424381,
          33449080,
          33457308,
          33462085,
          33474815,
          33486120,
          33498545,
          33508938,
          33529529,
          33538049,
          33541941,
          33554275,
          33565215,
          33577651,
          33590481,
          33614196,
          33621499,
          33625419,
          33640502,
          33651852,
          33664970,
          33679433,
          33709325,
          33714064,
          33717761,
          33723289,
          33747513,
          33770444,
          33790505,
          33838746,
          33847784,
          33853948,
          33888961,
          33915385,
          33947230,
          33975642,
          34054952,
          34067912,
          34079960,
          34132071,
          34174774
         ],
         "yaxis": "y"
        },
        {
         "hovertemplate": "Country=Canada<br>Day=%{x}<br>Cases=%{y}<extra></extra>",
         "legendgroup": "Canada",
         "line": {
          "color": "#EF553B",
          "dash": "solid"
         },
         "mode": "lines",
         "name": "Canada",
         "showlegend": true,
         "type": "scattergl",
         "x": [
          "2020-01-26",
          "2020-01-27",
          "2020-01-28",
          "2020-01-29",
          "2020-01-30",
          "2020-01-31",
          "2020-02-01",
          "2020-02-02",
          "2020-02-03",
          "2020-02-04",
          "2020-02-05",
          "2020-02-06",
          "2020-02-07",
          "2020-02-08",
          "2020-02-09",
          "2020-02-10",
          "2020-02-11",
          "2020-02-12",
          "2020-02-13",
          "2020-02-14",
          "2020-02-15",
          "2020-02-16",
          "2020-02-17",
          "2020-02-18",
          "2020-02-19",
          "2020-02-20",
          "2020-02-21",
          "2020-02-22",
          "2020-02-23",
          "2020-02-24",
          "2020-02-25",
          "2020-02-26",
          "2020-02-27",
          "2020-02-28",
          "2020-02-29",
          "2020-03-01",
          "2020-03-02",
          "2020-03-03",
          "2020-03-04",
          "2020-03-05",
          "2020-03-06",
          "2020-03-07",
          "2020-03-08",
          "2020-03-09",
          "2020-03-10",
          "2020-03-11",
          "2020-03-12",
          "2020-03-13",
          "2020-03-14",
          "2020-03-15",
          "2020-03-16",
          "2020-03-17",
          "2020-03-18",
          "2020-03-19",
          "2020-03-20",
          "2020-03-21",
          "2020-03-22",
          "2020-03-23",
          "2020-03-24",
          "2020-03-25",
          "2020-03-26",
          "2020-03-27",
          "2020-03-28",
          "2020-03-29",
          "2020-03-30",
          "2020-03-31",
          "2020-04-01",
          "2020-04-02",
          "2020-04-03",
          "2020-04-04",
          "2020-04-05",
          "2020-04-06",
          "2020-04-07",
          "2020-04-08",
          "2020-04-09",
          "2020-04-10",
          "2020-04-11",
          "2020-04-12",
          "2020-04-13",
          "2020-04-14",
          "2020-04-15",
          "2020-04-16",
          "2020-04-17",
          "2020-04-18",
          "2020-04-19",
          "2020-04-20",
          "2020-04-21",
          "2020-04-22",
          "2020-04-23",
          "2020-04-24",
          "2020-04-25",
          "2020-04-26",
          "2020-04-27",
          "2020-04-28",
          "2020-04-29",
          "2020-04-30",
          "2020-05-01",
          "2020-05-02",
          "2020-05-03",
          "2020-05-04",
          "2020-05-05",
          "2020-05-06",
          "2020-05-07",
          "2020-05-08",
          "2020-05-09",
          "2020-05-10",
          "2020-05-11",
          "2020-05-12",
          "2020-05-13",
          "2020-05-14",
          "2020-05-15",
          "2020-05-16",
          "2020-05-17",
          "2020-05-18",
          "2020-05-19",
          "2020-05-20",
          "2020-05-21",
          "2020-05-22",
          "2020-05-23",
          "2020-05-24",
          "2020-05-25",
          "2020-05-26",
          "2020-05-27",
          "2020-05-28",
          "2020-05-29",
          "2020-05-30",
          "2020-05-31",
          "2020-06-01",
          "2020-06-02",
          "2020-06-03",
          "2020-06-04",
          "2020-06-05",
          "2020-06-06",
          "2020-06-07",
          "2020-06-08",
          "2020-06-09",
          "2020-06-10",
          "2020-06-11",
          "2020-06-12",
          "2020-06-13",
          "2020-06-14",
          "2020-06-15",
          "2020-06-16",
          "2020-06-17",
          "2020-06-18",
          "2020-06-19",
          "2020-06-20",
          "2020-06-21",
          "2020-06-22",
          "2020-06-23",
          "2020-06-24",
          "2020-06-25",
          "2020-06-26",
          "2020-06-27",
          "2020-06-28",
          "2020-06-29",
          "2020-06-30",
          "2020-07-01",
          "2020-07-02",
          "2020-07-03",
          "2020-07-04",
          "2020-07-05",
          "2020-07-06",
          "2020-07-07",
          "2020-07-08",
          "2020-07-09",
          "2020-07-10",
          "2020-07-11",
          "2020-07-12",
          "2020-07-13",
          "2020-07-14",
          "2020-07-15",
          "2020-07-16",
          "2020-07-17",
          "2020-07-18",
          "2020-07-19",
          "2020-07-20",
          "2020-07-21",
          "2020-07-22",
          "2020-07-23",
          "2020-07-24",
          "2020-07-25",
          "2020-07-26",
          "2020-07-27",
          "2020-07-28",
          "2020-07-29",
          "2020-07-30",
          "2020-07-31",
          "2020-08-01",
          "2020-08-02",
          "2020-08-03",
          "2020-08-04",
          "2020-08-05",
          "2020-08-06",
          "2020-08-07",
          "2020-08-08",
          "2020-08-09",
          "2020-08-10",
          "2020-08-11",
          "2020-08-12",
          "2020-08-13",
          "2020-08-14",
          "2020-08-15",
          "2020-08-16",
          "2020-08-17",
          "2020-08-18",
          "2020-08-19",
          "2020-08-20",
          "2020-08-21",
          "2020-08-22",
          "2020-08-23",
          "2020-08-24",
          "2020-08-25",
          "2020-08-26",
          "2020-08-27",
          "2020-08-28",
          "2020-08-29",
          "2020-08-30",
          "2020-08-31",
          "2020-09-01",
          "2020-09-02",
          "2020-09-03",
          "2020-09-04",
          "2020-09-05",
          "2020-09-06",
          "2020-09-07",
          "2020-09-08",
          "2020-09-09",
          "2020-09-10",
          "2020-09-11",
          "2020-09-12",
          "2020-09-13",
          "2020-09-14",
          "2020-09-15",
          "2020-09-16",
          "2020-09-17",
          "2020-09-18",
          "2020-09-19",
          "2020-09-20",
          "2020-09-21",
          "2020-09-22",
          "2020-09-23",
          "2020-09-24",
          "2020-09-25",
          "2020-09-26",
          "2020-09-27",
          "2020-09-28",
          "2020-09-29",
          "2020-09-30",
          "2020-10-01",
          "2020-10-02",
          "2020-10-03",
          "2020-10-04",
          "2020-10-05",
          "2020-10-06",
          "2020-10-07",
          "2020-10-08",
          "2020-10-09",
          "2020-10-10",
          "2020-10-11",
          "2020-10-12",
          "2020-10-13",
          "2020-10-14",
          "2020-10-15",
          "2020-10-16",
          "2020-10-17",
          "2020-10-18",
          "2020-10-19",
          "2020-10-20",
          "2020-10-21",
          "2020-10-22",
          "2020-10-23",
          "2020-10-24",
          "2020-10-25",
          "2020-10-26",
          "2020-10-27",
          "2020-10-28",
          "2020-10-29",
          "2020-10-30",
          "2020-10-31",
          "2020-11-01",
          "2020-11-02",
          "2020-11-03",
          "2020-11-04",
          "2020-11-05",
          "2020-11-06",
          "2020-11-07",
          "2020-11-08",
          "2020-11-09",
          "2020-11-10",
          "2020-11-11",
          "2020-11-12",
          "2020-11-13",
          "2020-11-14",
          "2020-11-15",
          "2020-11-16",
          "2020-11-17",
          "2020-11-18",
          "2020-11-19",
          "2020-11-20",
          "2020-11-21",
          "2020-11-22",
          "2020-11-23",
          "2020-11-24",
          "2020-11-25",
          "2020-11-26",
          "2020-11-27",
          "2020-11-28",
          "2020-11-29",
          "2020-11-30",
          "2020-12-01",
          "2020-12-02",
          "2020-12-03",
          "2020-12-04",
          "2020-12-05",
          "2020-12-06",
          "2020-12-07",
          "2020-12-08",
          "2020-12-09",
          "2020-12-10",
          "2020-12-11",
          "2020-12-12",
          "2020-12-13",
          "2020-12-14",
          "2020-12-15",
          "2020-12-16",
          "2020-12-17",
          "2020-12-18",
          "2020-12-19",
          "2020-12-20",
          "2020-12-21",
          "2020-12-22",
          "2020-12-23",
          "2020-12-24",
          "2020-12-25",
          "2020-12-26",
          "2020-12-27",
          "2020-12-28",
          "2020-12-29",
          "2020-12-30",
          "2020-12-31",
          "2021-01-01",
          "2021-01-02",
          "2021-01-03",
          "2021-01-04",
          "2021-01-05",
          "2021-01-06",
          "2021-01-07",
          "2021-01-08",
          "2021-01-09",
          "2021-01-10",
          "2021-01-11",
          "2021-01-12",
          "2021-01-13",
          "2021-01-14",
          "2021-01-15",
          "2021-01-16",
          "2021-01-17",
          "2021-01-18",
          "2021-01-19",
          "2021-01-20",
          "2021-01-21",
          "2021-01-22",
          "2021-01-23",
          "2021-01-24",
          "2021-01-25",
          "2021-01-26",
          "2021-01-27",
          "2021-01-28",
          "2021-01-29",
          "2021-01-30",
          "2021-01-31",
          "2021-02-01",
          "2021-02-02",
          "2021-02-03",
          "2021-02-04",
          "2021-02-05",
          "2021-02-06",
          "2021-02-07",
          "2021-02-08",
          "2021-02-09",
          "2021-02-10",
          "2021-02-11",
          "2021-02-12",
          "2021-02-13",
          "2021-02-14",
          "2021-02-15",
          "2021-02-16",
          "2021-02-17",
          "2021-02-18",
          "2021-02-19",
          "2021-02-20",
          "2021-02-21",
          "2021-02-22",
          "2021-02-23",
          "2021-02-24",
          "2021-02-25",
          "2021-02-26",
          "2021-02-27",
          "2021-02-28",
          "2021-03-01",
          "2021-03-02",
          "2021-03-03",
          "2021-03-04",
          "2021-03-05",
          "2021-03-06",
          "2021-03-07",
          "2021-03-08",
          "2021-03-09",
          "2021-03-10",
          "2021-03-11",
          "2021-03-12",
          "2021-03-13",
          "2021-03-14",
          "2021-03-15",
          "2021-03-16",
          "2021-03-17",
          "2021-03-18",
          "2021-03-19",
          "2021-03-20",
          "2021-03-21",
          "2021-03-22",
          "2021-03-23",
          "2021-03-24",
          "2021-03-25",
          "2021-03-26",
          "2021-03-27",
          "2021-03-28",
          "2021-03-29",
          "2021-03-30",
          "2021-03-31",
          "2021-04-01",
          "2021-04-02",
          "2021-04-03",
          "2021-04-04",
          "2021-04-05",
          "2021-04-06",
          "2021-04-07",
          "2021-04-08",
          "2021-04-09",
          "2021-04-10",
          "2021-04-11",
          "2021-04-12",
          "2021-04-13",
          "2021-04-14",
          "2021-04-15",
          "2021-04-16",
          "2021-04-17",
          "2021-04-18",
          "2021-04-19",
          "2021-04-20",
          "2021-04-21",
          "2021-04-22",
          "2021-04-23",
          "2021-04-24",
          "2021-04-25",
          "2021-04-26",
          "2021-04-27",
          "2021-04-28",
          "2021-04-29",
          "2021-04-30",
          "2021-05-01",
          "2021-05-02",
          "2021-05-03",
          "2021-05-04",
          "2021-05-05",
          "2021-05-06",
          "2021-05-07",
          "2021-05-08",
          "2021-05-09",
          "2021-05-10",
          "2021-05-11",
          "2021-05-12",
          "2021-05-13",
          "2021-05-14",
          "2021-05-15",
          "2021-05-16",
          "2021-05-17",
          "2021-05-18",
          "2021-05-19",
          "2021-05-20",
          "2021-05-21",
          "2021-05-22",
          "2021-05-23",
          "2021-05-24",
          "2021-05-25",
          "2021-05-26",
          "2021-05-27",
          "2021-05-28",
          "2021-05-29",
          "2021-05-30",
          "2021-05-31",
          "2021-06-01",
          "2021-06-02",
          "2021-06-03",
          "2021-06-04",
          "2021-06-05",
          "2021-06-06",
          "2021-06-07",
          "2021-06-08",
          "2021-06-09",
          "2021-06-10",
          "2021-06-11",
          "2021-06-12",
          "2021-06-13",
          "2021-06-14",
          "2021-06-15",
          "2021-06-16",
          "2021-06-17",
          "2021-06-18",
          "2021-06-19",
          "2021-06-20",
          "2021-06-21",
          "2021-06-22",
          "2021-06-23",
          "2021-06-24",
          "2021-06-25",
          "2021-06-26",
          "2021-06-27",
          "2021-06-28",
          "2021-06-29",
          "2021-06-30",
          "2021-07-01",
          "2021-07-02",
          "2021-07-03",
          "2021-07-04",
          "2021-07-05",
          "2021-07-06",
          "2021-07-07",
          "2021-07-08",
          "2021-07-09",
          "2021-07-10",
          "2021-07-11",
          "2021-07-12",
          "2021-07-13",
          "2021-07-14",
          "2021-07-15",
          "2021-07-16",
          "2021-07-17",
          "2021-07-18",
          "2021-07-19",
          "2021-07-20"
         ],
         "xaxis": "x",
         "y": [
          1,
          1,
          2,
          2,
          2,
          4,
          4,
          4,
          4,
          4,
          5,
          5,
          7,
          7,
          7,
          7,
          7,
          7,
          7,
          7,
          7,
          7,
          8,
          8,
          8,
          8,
          9,
          9,
          9,
          10,
          12,
          12,
          14,
          15,
          21,
          26,
          32,
          37,
          42,
          46,
          60,
          64,
          74,
          88,
          92,
          127,
          141,
          213,
          236,
          296,
          450,
          532,
          732,
          921,
          1175,
          1653,
          2045,
          2600,
          3185,
          3683,
          4550,
          5249,
          6085,
          7015,
          8121,
          9246,
          10527,
          12219,
          13559,
          14906,
          16475,
          17521,
          18858,
          20122,
          21502,
          22777,
          24084,
          25303,
          26937,
          28563,
          30223,
          32790,
          34876,
          36358,
          38026,
          39591,
          41334,
          43641,
          45310,
          47007,
          48570,
          50002,
          51621,
          53297,
          55061,
          56716,
          58549,
          60023,
          61183,
          62743,
          64100,
          65703,
          67146,
          68485,
          69645,
          70736,
          71886,
          73083,
          74307,
          75428,
          76691,
          77871,
          78992,
          80033,
          81183,
          82488,
          83650,
          84814,
          85823,
          86749,
          87697,
          88502,
          89380,
          90219,
          91054,
          91805,
          92488,
          93330,
          93991,
          94658,
          95283,
          95949,
          96497,
          97164,
          97685,
          98174,
          98669,
          99118,
          99548,
          99959,
          100286,
          100655,
          101021,
          101429,
          101830,
          102233,
          102652,
          102957,
          103313,
          103707,
          104063,
          104387,
          104638,
          104975,
          105348,
          105732,
          106029,
          106227,
          106583,
          106903,
          107116,
          107303,
          107718,
          107973,
          108302,
          108617,
          108957,
          109133,
          109292,
          109965,
          110352,
          110713,
          111160,
          111630,
          111976,
          112231,
          112982,
          113487,
          113836,
          114494,
          115208,
          115554,
          115851,
          116477,
          116838,
          117325,
          117740,
          118297,
          118523,
          118719,
          118945,
          119658,
          120002,
          120315,
          120851,
          121084,
          121296,
          121926,
          122271,
          122580,
          123051,
          123464,
          123670,
          123826,
          124035,
          124936,
          125269,
          125505,
          126212,
          126421,
          126680,
          127433,
          127778,
          128239,
          128706,
          129253,
          129582,
          129829,
          130849,
          131385,
          131956,
          132582,
          133197,
          133587,
          133955,
          134335,
          135826,
          136276,
          137169,
          137976,
          138515,
          139028,
          140487,
          141318,
          142270,
          143149,
          144513,
          145137,
          146321,
          148046,
          149351,
          150652,
          151944,
          153680,
          154948,
          156560,
          158510,
          160441,
          162736,
          164583,
          166824,
          168178,
          170289,
          172826,
          174835,
          176535,
          178904,
          181837,
          183792,
          185566,
          186494,
          190739,
          193208,
          195684,
          198329,
          199523,
          201861,
          204976,
          207465,
          210061,
          212541,
          215574,
          216935,
          219704,
          223984,
          226721,
          229446,
          232497,
          235898,
          238191,
          240586,
          243974,
          248905,
          251822,
          254739,
          260195,
          264545,
          268395,
          273304,
          277892,
          281888,
          287329,
          292173,
          296394,
          300597,
          306437,
          311043,
          315586,
          320481,
          325356,
          330240,
          335038,
          341746,
          347135,
          352376,
          357926,
          363884,
          369510,
          374880,
          382708,
          388543,
          395028,
          401325,
          408165,
          414131,
          420281,
          428054,
          434320,
          440737,
          447341,
          454254,
          460332,
          466016,
          474661,
          480952,
          487685,
          495152,
          502197,
          508674,
          514500,
          522076,
          528307,
          535204,
          541936,
          545983,
          551184,
          556649,
          563156,
          571823,
          580573,
          587429,
          591149,
          598091,
          608734,
          618801,
          626129,
          634437,
          642978,
          652373,
          659647,
          666375,
          674624,
          681015,
          688097,
          695359,
          702203,
          708263,
          714316,
          720440,
          725599,
          731371,
          737654,
          743384,
          748123,
          752510,
          758142,
          762368,
          766633,
          771358,
          776171,
          780147,
          783735,
          788323,
          791385,
          794681,
          798650,
          802904,
          806010,
          808973,
          812700,
          815526,
          818967,
          822038,
          824754,
          828335,
          830352,
          832058,
          836455,
          838998,
          842393,
          845454,
          848060,
          850617,
          853901,
          857206,
          860200,
          863301,
          866528,
          869058,
          871243,
          874909,
          877747,
          880487,
          883619,
          886492,
          889255,
          891807,
          895889,
          898963,
          901948,
          905071,
          908645,
          911560,
          914204,
          917994,
          921011,
          924444,
          928117,
          932391,
          935714,
          938856,
          943715,
          947393,
          951589,
          956755,
          961839,
          966076,
          970166,
          976479,
          980365,
          989493,
          995249,
          998882,
          1005978,
          1009472,
          1017761,
          1028626,
          1036386,
          1044733,
          1053999,
          1061369,
          1069041,
          1079582,
          1087048,
          1096000,
          1105778,
          1115036,
          1122116,
          1130006,
          1140322,
          1147636,
          1155855,
          1164756,
          1173220,
          1180681,
          1187484,
          1196400,
          1203429,
          1211651,
          1220914,
          1229305,
          1235669,
          1241406,
          1252391,
          1259137,
          1266916,
          1275006,
          1282734,
          1288676,
          1294120,
          1302993,
          1308541,
          1315211,
          1321104,
          1327839,
          1332229,
          1336374,
          1342824,
          1346736,
          1351766,
          1356616,
          1360950,
          1364195,
          1367023,
          1368739,
          1372492,
          1374976,
          1379674,
          1382769,
          1384928,
          1386871,
          1389814,
          1391540,
          1393732,
          1395909,
          1397898,
          1399231,
          1400580,
          1402369,
          1403490,
          1404927,
          1406417,
          1407798,
          1408935,
          1409909,
          1411228,
          1412121,
          1413203,
          1414304,
          1415272,
          1416009,
          1416589,
          1417625,
          1418135,
          1418853,
          1419569,
          1420191,
          1420724,
          1421122,
          1422053,
          1422618,
          1423170,
          1423321,
          1424160,
          1424502,
          1424784,
          1425594,
          1425884,
          1426435,
          1427027,
          1427582,
          1427899,
          1428162,
          1428689,
          1429029,
          1429369,
          1429747,
          1430127,
          1430437,
          1430740,
          1431378,
          1431691
         ],
         "yaxis": "y"
        }
       ],
       "layout": {
        "legend": {
         "title": {
          "text": "Country"
         },
         "tracegroupgap": 0
        },
        "template": {
         "data": {
          "bar": [
           {
            "error_x": {
             "color": "#f2f5fa"
            },
            "error_y": {
             "color": "#f2f5fa"
            },
            "marker": {
             "line": {
              "color": "rgb(17,17,17)",
              "width": 0.5
             },
             "pattern": {
              "fillmode": "overlay",
              "size": 10,
              "solidity": 0.2
             }
            },
            "type": "bar"
           }
          ],
          "barpolar": [
           {
            "marker": {
             "line": {
              "color": "rgb(17,17,17)",
              "width": 0.5
             },
             "pattern": {
              "fillmode": "overlay",
              "size": 10,
              "solidity": 0.2
             }
            },
            "type": "barpolar"
           }
          ],
          "carpet": [
           {
            "aaxis": {
             "endlinecolor": "#A2B1C6",
             "gridcolor": "#506784",
             "linecolor": "#506784",
             "minorgridcolor": "#506784",
             "startlinecolor": "#A2B1C6"
            },
            "baxis": {
             "endlinecolor": "#A2B1C6",
             "gridcolor": "#506784",
             "linecolor": "#506784",
             "minorgridcolor": "#506784",
             "startlinecolor": "#A2B1C6"
            },
            "type": "carpet"
           }
          ],
          "choropleth": [
           {
            "colorbar": {
             "outlinewidth": 0,
             "ticks": ""
            },
            "type": "choropleth"
           }
          ],
          "contour": [
           {
            "colorbar": {
             "outlinewidth": 0,
             "ticks": ""
            },
            "colorscale": [
             [
              0,
              "#0d0887"
             ],
             [
              0.1111111111111111,
              "#46039f"
             ],
             [
              0.2222222222222222,
              "#7201a8"
             ],
             [
              0.3333333333333333,
              "#9c179e"
             ],
             [
              0.4444444444444444,
              "#bd3786"
             ],
             [
              0.5555555555555556,
              "#d8576b"
             ],
             [
              0.6666666666666666,
              "#ed7953"
             ],
             [
              0.7777777777777778,
              "#fb9f3a"
             ],
             [
              0.8888888888888888,
              "#fdca26"
             ],
             [
              1,
              "#f0f921"
             ]
            ],
            "type": "contour"
           }
          ],
          "contourcarpet": [
           {
            "colorbar": {
             "outlinewidth": 0,
             "ticks": ""
            },
            "type": "contourcarpet"
           }
          ],
          "heatmap": [
           {
            "colorbar": {
             "outlinewidth": 0,
             "ticks": ""
            },
            "colorscale": [
             [
              0,
              "#0d0887"
             ],
             [
              0.1111111111111111,
              "#46039f"
             ],
             [
              0.2222222222222222,
              "#7201a8"
             ],
             [
              0.3333333333333333,
              "#9c179e"
             ],
             [
              0.4444444444444444,
              "#bd3786"
             ],
             [
              0.5555555555555556,
              "#d8576b"
             ],
             [
              0.6666666666666666,
              "#ed7953"
             ],
             [
              0.7777777777777778,
              "#fb9f3a"
             ],
             [
              0.8888888888888888,
              "#fdca26"
             ],
             [
              1,
              "#f0f921"
             ]
            ],
            "type": "heatmap"
           }
          ],
          "heatmapgl": [
           {
            "colorbar": {
             "outlinewidth": 0,
             "ticks": ""
            },
            "colorscale": [
             [
              0,
              "#0d0887"
             ],
             [
              0.1111111111111111,
              "#46039f"
             ],
             [
              0.2222222222222222,
              "#7201a8"
             ],
             [
              0.3333333333333333,
              "#9c179e"
             ],
             [
              0.4444444444444444,
              "#bd3786"
             ],
             [
              0.5555555555555556,
              "#d8576b"
             ],
             [
              0.6666666666666666,
              "#ed7953"
             ],
             [
              0.7777777777777778,
              "#fb9f3a"
             ],
             [
              0.8888888888888888,
              "#fdca26"
             ],
             [
              1,
              "#f0f921"
             ]
            ],
            "type": "heatmapgl"
           }
          ],
          "histogram": [
           {
            "marker": {
             "pattern": {
              "fillmode": "overlay",
              "size": 10,
              "solidity": 0.2
             }
            },
            "type": "histogram"
           }
          ],
          "histogram2d": [
           {
            "colorbar": {
             "outlinewidth": 0,
             "ticks": ""
            },
            "colorscale": [
             [
              0,
              "#0d0887"
             ],
             [
              0.1111111111111111,
              "#46039f"
             ],
             [
              0.2222222222222222,
              "#7201a8"
             ],
             [
              0.3333333333333333,
              "#9c179e"
             ],
             [
              0.4444444444444444,
              "#bd3786"
             ],
             [
              0.5555555555555556,
              "#d8576b"
             ],
             [
              0.6666666666666666,
              "#ed7953"
             ],
             [
              0.7777777777777778,
              "#fb9f3a"
             ],
             [
              0.8888888888888888,
              "#fdca26"
             ],
             [
              1,
              "#f0f921"
             ]
            ],
            "type": "histogram2d"
           }
          ],
          "histogram2dcontour": [
           {
            "colorbar": {
             "outlinewidth": 0,
             "ticks": ""
            },
            "colorscale": [
             [
              0,
              "#0d0887"
             ],
             [
              0.1111111111111111,
              "#46039f"
             ],
             [
              0.2222222222222222,
              "#7201a8"
             ],
             [
              0.3333333333333333,
              "#9c179e"
             ],
             [
              0.4444444444444444,
              "#bd3786"
             ],
             [
              0.5555555555555556,
              "#d8576b"
             ],
             [
              0.6666666666666666,
              "#ed7953"
             ],
             [
              0.7777777777777778,
              "#fb9f3a"
             ],
             [
              0.8888888888888888,
              "#fdca26"
             ],
             [
              1,
              "#f0f921"
             ]
            ],
            "type": "histogram2dcontour"
           }
          ],
          "mesh3d": [
           {
            "colorbar": {
             "outlinewidth": 0,
             "ticks": ""
            },
            "type": "mesh3d"
           }
          ],
          "parcoords": [
           {
            "line": {
             "colorbar": {
              "outlinewidth": 0,
              "ticks": ""
             }
            },
            "type": "parcoords"
           }
          ],
          "pie": [
           {
            "automargin": true,
            "type": "pie"
           }
          ],
          "scatter": [
           {
            "marker": {
             "line": {
              "color": "#283442"
             }
            },
            "type": "scatter"
           }
          ],
          "scatter3d": [
           {
            "line": {
             "colorbar": {
              "outlinewidth": 0,
              "ticks": ""
             }
            },
            "marker": {
             "colorbar": {
              "outlinewidth": 0,
              "ticks": ""
             }
            },
            "type": "scatter3d"
           }
          ],
          "scattercarpet": [
           {
            "marker": {
             "colorbar": {
              "outlinewidth": 0,
              "ticks": ""
             }
            },
            "type": "scattercarpet"
           }
          ],
          "scattergeo": [
           {
            "marker": {
             "colorbar": {
              "outlinewidth": 0,
              "ticks": ""
             }
            },
            "type": "scattergeo"
           }
          ],
          "scattergl": [
           {
            "marker": {
             "line": {
              "color": "#283442"
             }
            },
            "type": "scattergl"
           }
          ],
          "scattermapbox": [
           {
            "marker": {
             "colorbar": {
              "outlinewidth": 0,
              "ticks": ""
             }
            },
            "type": "scattermapbox"
           }
          ],
          "scatterpolar": [
           {
            "marker": {
             "colorbar": {
              "outlinewidth": 0,
              "ticks": ""
             }
            },
            "type": "scatterpolar"
           }
          ],
          "scatterpolargl": [
           {
            "marker": {
             "colorbar": {
              "outlinewidth": 0,
              "ticks": ""
             }
            },
            "type": "scatterpolargl"
           }
          ],
          "scatterternary": [
           {
            "marker": {
             "colorbar": {
              "outlinewidth": 0,
              "ticks": ""
             }
            },
            "type": "scatterternary"
           }
          ],
          "surface": [
           {
            "colorbar": {
             "outlinewidth": 0,
             "ticks": ""
            },
            "colorscale": [
             [
              0,
              "#0d0887"
             ],
             [
              0.1111111111111111,
              "#46039f"
             ],
             [
              0.2222222222222222,
              "#7201a8"
             ],
             [
              0.3333333333333333,
              "#9c179e"
             ],
             [
              0.4444444444444444,
              "#bd3786"
             ],
             [
              0.5555555555555556,
              "#d8576b"
             ],
             [
              0.6666666666666666,
              "#ed7953"
             ],
             [
              0.7777777777777778,
              "#fb9f3a"
             ],
             [
              0.8888888888888888,
              "#fdca26"
             ],
             [
              1,
              "#f0f921"
             ]
            ],
            "type": "surface"
           }
          ],
          "table": [
           {
            "cells": {
             "fill": {
              "color": "#506784"
             },
             "line": {
              "color": "rgb(17,17,17)"
             }
            },
            "header": {
             "fill": {
              "color": "#2a3f5f"
             },
             "line": {
              "color": "rgb(17,17,17)"
             }
            },
            "type": "table"
           }
          ]
         },
         "layout": {
          "annotationdefaults": {
           "arrowcolor": "#f2f5fa",
           "arrowhead": 0,
           "arrowwidth": 1
          },
          "autotypenumbers": "strict",
          "coloraxis": {
           "colorbar": {
            "outlinewidth": 0,
            "ticks": ""
           }
          },
          "colorscale": {
           "diverging": [
            [
             0,
             "#8e0152"
            ],
            [
             0.1,
             "#c51b7d"
            ],
            [
             0.2,
             "#de77ae"
            ],
            [
             0.3,
             "#f1b6da"
            ],
            [
             0.4,
             "#fde0ef"
            ],
            [
             0.5,
             "#f7f7f7"
            ],
            [
             0.6,
             "#e6f5d0"
            ],
            [
             0.7,
             "#b8e186"
            ],
            [
             0.8,
             "#7fbc41"
            ],
            [
             0.9,
             "#4d9221"
            ],
            [
             1,
             "#276419"
            ]
           ],
           "sequential": [
            [
             0,
             "#0d0887"
            ],
            [
             0.1111111111111111,
             "#46039f"
            ],
            [
             0.2222222222222222,
             "#7201a8"
            ],
            [
             0.3333333333333333,
             "#9c179e"
            ],
            [
             0.4444444444444444,
             "#bd3786"
            ],
            [
             0.5555555555555556,
             "#d8576b"
            ],
            [
             0.6666666666666666,
             "#ed7953"
            ],
            [
             0.7777777777777778,
             "#fb9f3a"
            ],
            [
             0.8888888888888888,
             "#fdca26"
            ],
            [
             1,
             "#f0f921"
            ]
           ],
           "sequentialminus": [
            [
             0,
             "#0d0887"
            ],
            [
             0.1111111111111111,
             "#46039f"
            ],
            [
             0.2222222222222222,
             "#7201a8"
            ],
            [
             0.3333333333333333,
             "#9c179e"
            ],
            [
             0.4444444444444444,
             "#bd3786"
            ],
            [
             0.5555555555555556,
             "#d8576b"
            ],
            [
             0.6666666666666666,
             "#ed7953"
            ],
            [
             0.7777777777777778,
             "#fb9f3a"
            ],
            [
             0.8888888888888888,
             "#fdca26"
            ],
            [
             1,
             "#f0f921"
            ]
           ]
          },
          "colorway": [
           "#636efa",
           "#EF553B",
           "#00cc96",
           "#ab63fa",
           "#FFA15A",
           "#19d3f3",
           "#FF6692",
           "#B6E880",
           "#FF97FF",
           "#FECB52"
          ],
          "font": {
           "color": "#f2f5fa"
          },
          "geo": {
           "bgcolor": "rgb(17,17,17)",
           "lakecolor": "rgb(17,17,17)",
           "landcolor": "rgb(17,17,17)",
           "showlakes": true,
           "showland": true,
           "subunitcolor": "#506784"
          },
          "hoverlabel": {
           "align": "left"
          },
          "hovermode": "closest",
          "mapbox": {
           "style": "dark"
          },
          "paper_bgcolor": "rgb(17,17,17)",
          "plot_bgcolor": "rgb(17,17,17)",
          "polar": {
           "angularaxis": {
            "gridcolor": "#506784",
            "linecolor": "#506784",
            "ticks": ""
           },
           "bgcolor": "rgb(17,17,17)",
           "radialaxis": {
            "gridcolor": "#506784",
            "linecolor": "#506784",
            "ticks": ""
           }
          },
          "scene": {
           "xaxis": {
            "backgroundcolor": "rgb(17,17,17)",
            "gridcolor": "#506784",
            "gridwidth": 2,
            "linecolor": "#506784",
            "showbackground": true,
            "ticks": "",
            "zerolinecolor": "#C8D4E3"
           },
           "yaxis": {
            "backgroundcolor": "rgb(17,17,17)",
            "gridcolor": "#506784",
            "gridwidth": 2,
            "linecolor": "#506784",
            "showbackground": true,
            "ticks": "",
            "zerolinecolor": "#C8D4E3"
           },
           "zaxis": {
            "backgroundcolor": "rgb(17,17,17)",
            "gridcolor": "#506784",
            "gridwidth": 2,
            "linecolor": "#506784",
            "showbackground": true,
            "ticks": "",
            "zerolinecolor": "#C8D4E3"
           }
          },
          "shapedefaults": {
           "line": {
            "color": "#f2f5fa"
           }
          },
          "sliderdefaults": {
           "bgcolor": "#C8D4E3",
           "bordercolor": "rgb(17,17,17)",
           "borderwidth": 1,
           "tickwidth": 0
          },
          "ternary": {
           "aaxis": {
            "gridcolor": "#506784",
            "linecolor": "#506784",
            "ticks": ""
           },
           "baxis": {
            "gridcolor": "#506784",
            "linecolor": "#506784",
            "ticks": ""
           },
           "bgcolor": "rgb(17,17,17)",
           "caxis": {
            "gridcolor": "#506784",
            "linecolor": "#506784",
            "ticks": ""
           }
          },
          "title": {
           "x": 0.05
          },
          "updatemenudefaults": {
           "bgcolor": "#506784",
           "borderwidth": 0
          },
          "xaxis": {
           "automargin": true,
           "gridcolor": "#283442",
           "linecolor": "#506784",
           "ticks": "",
           "title": {
            "standoff": 15
           },
           "zerolinecolor": "#283442",
           "zerolinewidth": 2
          },
          "yaxis": {
           "automargin": true,
           "gridcolor": "#283442",
           "linecolor": "#506784",
           "ticks": "",
           "title": {
            "standoff": 15
           },
           "zerolinecolor": "#283442",
           "zerolinewidth": 2
          }
         }
        },
        "title": {
         "text": "Confirmed Cases Over Time in the USA vs Canada"
        },
        "xaxis": {
         "anchor": "y",
         "domain": [
          0,
          1
         ],
         "title": {
          "text": "Day"
         }
        },
        "yaxis": {
         "anchor": "x",
         "domain": [
          0,
          1
         ],
         "title": {
          "text": "Cases"
         }
        }
       }
      }
     },
     "metadata": {}
    }
   ],
   "source": [
    "fig = px.line(added_data, x='Day', y='Cases', color='Country', template = \"plotly_dark\", title = \"Confirmed Cases Over Time in the USA vs Canada\",)\n",
    "\n",
    "fig.show()"
   ]
  },
  {
   "cell_type": "code",
   "execution_count": null,
   "metadata": {},
   "outputs": [],
   "source": []
  }
 ]
}